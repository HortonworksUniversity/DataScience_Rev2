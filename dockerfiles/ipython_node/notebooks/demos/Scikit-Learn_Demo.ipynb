{
 "metadata": {
  "name": "",
  "signature": "sha256:42ad296c890ed5ebc5f60a31cdbf42ed79eb4a5ce00962269545dd70ba08bb23"
 },
 "nbformat": 3,
 "nbformat_minor": 0,
 "worksheets": [
  {
   "cells": [
    {
     "cell_type": "markdown",
     "metadata": {},
     "source": [
      "## Support Vector Machine classification example"
     ]
    },
    {
     "cell_type": "code",
     "collapsed": false,
     "input": [
      "import numpy as np\n",
      "import pylab as pl\n",
      "import matplotlib.pyplot as plt"
     ],
     "language": "python",
     "metadata": {},
     "outputs": []
    },
    {
     "cell_type": "code",
     "collapsed": false,
     "input": [
      "training_data = [[1,1],[2,2],[1,3],[0.5,0],[0.3,3],[0.9,0.8],[0.9,1.2],[1.1,0.8],[1.8,1.5],[0.8,2.1],\n",
      "                 [3.1,3.3],[3.2,2.9],[3,5],[2.9,4.5],[0.3,0.4],[3,3],[4,4],[3.5,3.1],[3.9,4.2],[2.5,2.9]]\n",
      "labels = ['a','a','a','a','a','a','a','a','a','a','b','b','b','b','b','b','b','b','b','b']"
     ],
     "language": "python",
     "metadata": {},
     "outputs": []
    },
    {
     "cell_type": "markdown",
     "metadata": {},
     "source": [
      "Plot the training data to see what it looks like"
     ]
    },
    {
     "cell_type": "code",
     "collapsed": false,
     "input": [
      "plt.scatter(*zip(*training_data[:9]), color='r', marker='*') \n",
      "plt.scatter(*zip(*training_data[10:]), color='g', marker='*')"
     ],
     "language": "python",
     "metadata": {},
     "outputs": []
    },
    {
     "cell_type": "markdown",
     "metadata": {},
     "source": [
      "Step 2: Instantiate the classifier here:"
     ]
    },
    {
     "cell_type": "code",
     "collapsed": false,
     "input": [],
     "language": "python",
     "metadata": {},
     "outputs": []
    },
    {
     "cell_type": "markdown",
     "metadata": {},
     "source": [
      "Now test some points:"
     ]
    },
    {
     "cell_type": "code",
     "collapsed": false,
     "input": [
      "test1 = [2.3, 2.5];\n",
      "svc.predict([test1])"
     ],
     "language": "python",
     "metadata": {},
     "outputs": []
    },
    {
     "cell_type": "code",
     "collapsed": false,
     "input": [
      "test2 = [2.4, 2.5]\n",
      "svc.predict([test2])"
     ],
     "language": "python",
     "metadata": {},
     "outputs": []
    },
    {
     "cell_type": "code",
     "collapsed": false,
     "input": [
      "plt.scatter(*zip(*training_data[:9]), color='r', marker='*') \n",
      "plt.scatter(*zip(*training_data[10:]), color='g', marker='*')\n",
      "plt.scatter(test1,test2, color='b', marker='s')"
     ],
     "language": "python",
     "metadata": {},
     "outputs": []
    },
    {
     "cell_type": "markdown",
     "metadata": {},
     "source": [
      "## Gaussian Naive Bayes example"
     ]
    },
    {
     "cell_type": "markdown",
     "metadata": {},
     "source": [
      "Import GaussianNB and instantiate one"
     ]
    },
    {
     "cell_type": "code",
     "collapsed": false,
     "input": [],
     "language": "python",
     "metadata": {},
     "outputs": []
    },
    {
     "cell_type": "code",
     "collapsed": false,
     "input": [
      "from pandas import DataFrame\n",
      "\n",
      "labels = [\"hot\", \"warm\", \"cool\", \"cold\"] * 25\n",
      "random.shuffle(labels)\n",
      "\n",
      "#Generate random points\n",
      "N = 100\n",
      "data = DataFrame(np.random.randint(0, 100, size=(N, 2)), columns = [\"x\", \"y\"], index = labels)\n",
      "data.count"
     ],
     "language": "python",
     "metadata": {},
     "outputs": []
    },
    {
     "cell_type": "code",
     "collapsed": false,
     "input": [
      "colors = {'hot': 'r', 'warm': 'y', 'cool': 'g', 'cold': 'b'}\n",
      "DataFrame.plot(data, x='x', y='y', kind=\"scatter\", color=[colors[i] for i in labels])"
     ],
     "language": "python",
     "metadata": {},
     "outputs": []
    },
    {
     "cell_type": "markdown",
     "metadata": {},
     "source": [
      "Fit the training data:"
     ]
    },
    {
     "cell_type": "code",
     "collapsed": false,
     "input": [],
     "language": "python",
     "metadata": {},
     "outputs": []
    },
    {
     "cell_type": "code",
     "collapsed": false,
     "input": [
      "gnb.predict([[15,30]])"
     ],
     "language": "python",
     "metadata": {},
     "outputs": []
    },
    {
     "cell_type": "code",
     "collapsed": false,
     "input": [
      "gnb.predict([[80,100]])"
     ],
     "language": "python",
     "metadata": {},
     "outputs": []
    },
    {
     "cell_type": "code",
     "collapsed": false,
     "input": [
      "gnb.predict([[60,80]])"
     ],
     "language": "python",
     "metadata": {},
     "outputs": []
    },
    {
     "cell_type": "markdown",
     "metadata": {},
     "source": [
      "## Compare SVM vs GNB"
     ]
    },
    {
     "cell_type": "code",
     "collapsed": false,
     "input": [
      "svc.fit(data,labels)"
     ],
     "language": "python",
     "metadata": {},
     "outputs": []
    },
    {
     "cell_type": "code",
     "collapsed": false,
     "input": [
      "svc.predict([[15,30]])"
     ],
     "language": "python",
     "metadata": {},
     "outputs": []
    },
    {
     "cell_type": "markdown",
     "metadata": {},
     "source": []
    },
    {
     "cell_type": "markdown",
     "metadata": {},
     "source": [
      "## KMeans Clustering example"
     ]
    },
    {
     "cell_type": "code",
     "collapsed": false,
     "input": [
      "from time import time\n",
      "import numpy as np\n",
      "import pylab as pl\n",
      "\n",
      "from sklearn import metrics\n",
      "from sklearn.cluster import KMeans\n",
      "from sklearn.datasets import load_digits\n",
      "from sklearn.decomposition import PCA\n",
      "from sklearn.preprocessing import scale\n",
      "\n",
      "np.random.seed(42)\n",
      "\n",
      "digits = load_digits()\n",
      "data = scale(digits.data)\n",
      "\n",
      "n_samples, n_features = data.shape\n",
      "k_clusters = 4\n",
      "labels = digits.target\n",
      "\n",
      "sample_size = 300\n",
      "\n",
      "print(\"k_clusters: %d, \\t n_samples %d, \\t n_features %d\"\n",
      "      % (k_clusters, n_samples, n_features))\n",
      "\n",
      "\n",
      "print(79 * '_')\n",
      "print('% 9s' % 'init'\n",
      "      '    time  inertia    homo   compl  v-meas     ARI AMI  silhouette')\n",
      "\n",
      "\n",
      "def bench_k_means(estimator, name, data):\n",
      "    t0 = time()\n",
      "    estimator.fit(data)\n",
      "    print('% 9s   %.2fs    %i   %.3f   %.3f   %.3f   %.3f   %.3f    %.3f'\n",
      "          % (name, (time() - t0), estimator.inertia_,\n",
      "             metrics.homogeneity_score(labels, estimator.labels_),\n",
      "             metrics.completeness_score(labels, estimator.labels_),\n",
      "             metrics.v_measure_score(labels, estimator.labels_),\n",
      "             metrics.adjusted_rand_score(labels, estimator.labels_),\n",
      "             metrics.adjusted_mutual_info_score(labels,  estimator.labels_),\n",
      "             metrics.silhouette_score(data, estimator.labels_,\n",
      "                                      metric='euclidean',\n",
      "                                      sample_size=sample_size)))\n",
      "\n",
      "bench_k_means(KMeans(init='k-means++', n_clusters=k_clusters, n_init=10),\n",
      "              name=\"k-means++\", data=data)\n",
      "\n",
      "bench_k_means(KMeans(init='random', n_clusters=k_clusters, n_init=10),\n",
      "              name=\"random\", data=data)\n",
      "\n",
      "# in this case the seeding of the centers is deterministic, hence we run the\n",
      "# kmeans algorithm only once with n_init=1\n",
      "pca = PCA(n_components=k_clusters).fit(data)\n",
      "bench_k_means(KMeans(init=pca.components_, n_clusters=k_clusters, n_init=1),\n",
      "              name=\"PCA-based\",\n",
      "              data=data)\n",
      "print(79 * '_')\n",
      "\n",
      "###############################################################################\n",
      "# Visualize the results on PCA-reduced data\n",
      "\n",
      "reduced_data = PCA(n_components=2).fit_transform(data)\n",
      "kmeans = KMeans(init='k-means++', n_clusters=k_clusters, n_init=10)\n",
      "kmeans.fit(reduced_data)\n",
      "\n",
      "# Step size of the mesh. Decrease to increase the quality of the VQ.\n",
      "h = .02     # point in the mesh [x_min, m_max]x[y_min, y_max].\n",
      "\n",
      "# Plot the decision boundary. For that, we will assign a color to each\n",
      "x_min, x_max = reduced_data[:, 0].min() + 1, reduced_data[:, 0].max() - 1\n",
      "y_min, y_max = reduced_data[:, 1].min() + 1, reduced_data[:, 1].max() - 1\n",
      "xx, yy = np.meshgrid(np.arange(x_min, x_max, h), np.arange(y_min, y_max, h))\n",
      "\n",
      "# Obtain labels for each point in mesh. Use last trained model.\n",
      "Z = kmeans.predict(np.c_[xx.ravel(), yy.ravel()])\n",
      "\n",
      "# Put the result into a color plot\n",
      "Z = Z.reshape(xx.shape)\n",
      "pl.figure(1)\n",
      "pl.clf()\n",
      "pl.imshow(Z, interpolation='nearest',\n",
      "          extent=(xx.min(), xx.max(), yy.min(), yy.max()),\n",
      "          cmap=pl.cm.Paired,\n",
      "          aspect='auto', origin='lower')\n",
      "\n",
      "pl.plot(reduced_data[:, 0], reduced_data[:, 1], 'k.', markersize=2)\n",
      "# Plot the centroids as a white X\n",
      "centroids = kmeans.cluster_centers_\n",
      "pl.scatter(centroids[:, 0], centroids[:, 1],\n",
      "           marker='x', s=169, linewidths=3,\n",
      "           color='w', zorder=10)\n",
      "pl.title('K-means clustering on the digits dataset (PCA-reduced data)\\n'\n",
      "         'Centroids are marked with white cross')\n",
      "pl.xlim(x_min, x_max)\n",
      "pl.ylim(y_min, y_max)\n",
      "pl.xticks(())\n",
      "pl.yticks(())\n",
      "pl.show()"
     ],
     "language": "python",
     "metadata": {},
     "outputs": []
    },
    {
     "cell_type": "code",
     "collapsed": false,
     "input": [],
     "language": "python",
     "metadata": {},
     "outputs": []
    }
   ],
   "metadata": {}
  }
 ]
}