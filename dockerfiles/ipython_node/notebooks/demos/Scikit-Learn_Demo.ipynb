{
 "metadata": {
  "name": "",
  "signature": "sha256:81c91306ce6447584fcb5cd7ee778c3921ccb5f63ccd09f0d6d0f933d580161e"
 },
 "nbformat": 3,
 "nbformat_minor": 0,
 "worksheets": [
  {
   "cells": [
    {
     "cell_type": "markdown",
     "metadata": {},
     "source": [
      "## Support Vector Machine classification example"
     ]
    },
    {
     "cell_type": "code",
     "collapsed": false,
     "input": [
      "training_data = [[1,1],[2,2],[3,3],[4,4]]\n",
      "labels = ['a','b','c','d']\n",
      "\n",
      "from sklearn import svm\n",
      "svc = svm.SVC()\n",
      "svc.fit(X, labels)  "
     ],
     "language": "python",
     "metadata": {},
     "outputs": []
    },
    {
     "cell_type": "code",
     "collapsed": false,
     "input": [
      "svc.predict([[2.1, 2.5]])"
     ],
     "language": "python",
     "metadata": {},
     "outputs": []
    },
    {
     "cell_type": "code",
     "collapsed": false,
     "input": [
      "svc.predict([[0.5, 1.4]])"
     ],
     "language": "python",
     "metadata": {},
     "outputs": []
    },
    {
     "cell_type": "markdown",
     "metadata": {},
     "source": [
      "## Gaussian Naive Bayes example"
     ]
    },
    {
     "cell_type": "code",
     "collapsed": false,
     "input": [
      "from sklearn.naive_bayes import GaussianNB\n",
      "gnb = GaussianNB()"
     ],
     "language": "python",
     "metadata": {},
     "outputs": []
    },
    {
     "cell_type": "code",
     "collapsed": false,
     "input": [
      "from pandas import DataFrame\n",
      "\n",
      "labels = [\"hot\", \"warm\", \"cool\", \"cold\"] * 25\n",
      "random.shuffle(labels)\n",
      "\n",
      "#Generate random points\n",
      "N = 100\n",
      "data = DataFrame(np.random.randint(0, 100, size=(N, 2)), columns = [\"x\", \"y\"], index = labels)"
     ],
     "language": "python",
     "metadata": {},
     "outputs": []
    },
    {
     "cell_type": "code",
     "collapsed": false,
     "input": [
      "gnb = GaussianNB()\n",
      "gnb.fit(data,labels)"
     ],
     "language": "python",
     "metadata": {},
     "outputs": []
    },
    {
     "cell_type": "code",
     "collapsed": false,
     "input": [
      "test_point = DataFrame({\"x\": [15], \"y\": [30]})\n",
      "gnb.predict(test_point)"
     ],
     "language": "python",
     "metadata": {},
     "outputs": []
    },
    {
     "cell_type": "markdown",
     "metadata": {},
     "source": [
      "## Compare SVM vs GNB"
     ]
    },
    {
     "cell_type": "code",
     "collapsed": false,
     "input": [
      "svc.fit(data,labels)"
     ],
     "language": "python",
     "metadata": {},
     "outputs": []
    },
    {
     "cell_type": "code",
     "collapsed": false,
     "input": [
      "svc.predict(test_point)"
     ],
     "language": "python",
     "metadata": {},
     "outputs": []
    },
    {
     "cell_type": "code",
     "collapsed": false,
     "input": [],
     "language": "python",
     "metadata": {},
     "outputs": []
    }
   ],
   "metadata": {}
  }
 ]
}