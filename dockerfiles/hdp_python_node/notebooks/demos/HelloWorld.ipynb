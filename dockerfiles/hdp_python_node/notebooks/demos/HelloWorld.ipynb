{
 "metadata": {
  "name": "",
  "signature": "sha256:6e8e539e006dd2537b32815abe548901503fbedf74303ab4eb384acb12425626"
 },
 "nbformat": 3,
 "nbformat_minor": 0,
 "worksheets": [
  {
   "cells": [
    {
     "cell_type": "code",
     "collapsed": false,
     "input": [
      "print \"Hello, World!\""
     ],
     "language": "python",
     "metadata": {},
     "outputs": []
    },
    {
     "cell_type": "code",
     "collapsed": false,
     "input": [
      "adjectives = ['awesome','good','excellent','awful','terrible']\n",
      "count = 0\n",
      "for word in adjectives :\n",
      "    if word[0] == 'a':\n",
      "        print word\n",
      "        count += 1\n",
      "print \"Found \" + str(count) + \" adjectives that start with 'a'\""
     ],
     "language": "python",
     "metadata": {},
     "outputs": []
    },
    {
     "cell_type": "code",
     "collapsed": false,
     "input": [
      "x = 10\n",
      "print type(x)\n",
      "\n",
      "pi = 3.14159\n",
      "print type(pi)\n",
      "\n",
      "name1 = \"Mark\"\n",
      "print type(name1)\n",
      "\n",
      "name2 = 'Mark'\n",
      "if name1 == name2 :\n",
      "    print \"\"\"They're\n",
      "    equal!\"\"\"\n",
      "\n",
      "print name1 is name2 "
     ],
     "language": "python",
     "metadata": {},
     "outputs": []
    },
    {
     "cell_type": "code",
     "collapsed": false,
     "input": [
      "adjectives = ['awesome','good','excellent','awful','terrible']\n",
      "adjectives.insert(3,'nice')\n",
      "adjectives.append('super')\n",
      "print adjectives\n",
      "\n",
      "temperatures = [87, 56, -4, 70, 92, 60, 38, 87, 64, 71]\n",
      "temperatures.remove(87)\n",
      "print temperatures\n",
      "temperatures.sort()\n",
      "print temperatures"
     ],
     "language": "python",
     "metadata": {},
     "outputs": []
    },
    {
     "cell_type": "code",
     "collapsed": false,
     "input": [
      "points = [[3,-1,6,5],[9,12,-7,8]]\n",
      "print points[1][2]"
     ],
     "language": "python",
     "metadata": {},
     "outputs": []
    },
    {
     "cell_type": "code",
     "collapsed": false,
     "input": [
      "squares = [x**2 for x in range(0,10)]\n",
      "squares"
     ],
     "language": "python",
     "metadata": {},
     "outputs": []
    },
    {
     "cell_type": "code",
     "collapsed": false,
     "input": [
      "double = [2*x for x in squares if x%3 != 0]\n",
      "double"
     ],
     "language": "python",
     "metadata": {},
     "outputs": []
    },
    {
     "cell_type": "code",
     "collapsed": false,
     "input": [
      "weekday = ('Mon','Tue','Wed','Thu','Fri')\n",
      "weekend = ('Sat','Sun')\n",
      "week = weekend + weekday\n",
      "for day in week :\n",
      "    print day\n",
      "week[1] = 'Sunday'"
     ],
     "language": "python",
     "metadata": {},
     "outputs": []
    },
    {
     "cell_type": "code",
     "collapsed": false,
     "input": [
      "range(12)"
     ],
     "language": "python",
     "metadata": {},
     "outputs": []
    },
    {
     "cell_type": "code",
     "collapsed": false,
     "input": [
      "range(-10,10)"
     ],
     "language": "python",
     "metadata": {},
     "outputs": []
    },
    {
     "cell_type": "code",
     "collapsed": false,
     "input": [
      "for i in range(len(weekday)) :\n",
      "    print i, weekday[i]"
     ],
     "language": "python",
     "metadata": {},
     "outputs": []
    },
    {
     "cell_type": "code",
     "collapsed": false,
     "input": [
      "temperatures = [87, 56, -4, 70, 92, 60, 38, 87, 64, 71]\n",
      "print \"start:end\", temperatures[3:6]\n",
      "print \":end\", temperatures[:6]\n",
      "print \"start:\", temperatures[6:]\n",
      "print \"all values\", temperatures[:]\n",
      "print \"step value\", temperatures[0:6:2]"
     ],
     "language": "python",
     "metadata": {},
     "outputs": []
    },
    {
     "cell_type": "code",
     "collapsed": false,
     "input": [
      "personal_info = {'Name':'John', 'Age':34, 'Height': 68.4 }\n",
      "print personal_info['Age']"
     ],
     "language": "python",
     "metadata": {},
     "outputs": []
    },
    {
     "cell_type": "code",
     "collapsed": false,
     "input": [
      "personal_info2 = dict(Name='John', Age=34, Height=68.4)\n",
      "print personal_info == personal_info2"
     ],
     "language": "python",
     "metadata": {},
     "outputs": []
    },
    {
     "cell_type": "code",
     "collapsed": false,
     "input": [
      "for i in range(len(week)) :\n",
      "    if week[i] == 'Fri' :\n",
      "        print \"TGIF!\"\n",
      "    elif week[i] in weekday :\n",
      "        print \"I'm at work\"\n",
      "    else :\n",
      "        print \"It's \",week[i]\n"
     ],
     "language": "python",
     "metadata": {},
     "outputs": []
    },
    {
     "cell_type": "code",
     "collapsed": false,
     "input": [
      "name1 = \"John\\nSmith\"\n",
      "name2 = 'John\\nSmith'\n",
      "name3 = \"\"\"John\\nSmith\"\"\"\n",
      "print name1 == name2, name2 == name3\n",
      "print name1"
     ],
     "language": "python",
     "metadata": {},
     "outputs": []
    },
    {
     "cell_type": "code",
     "collapsed": false,
     "input": [
      "today = \"December \" + \"25\" + \", \" + \"2014\"\n",
      "print today\n",
      "x = 'bye ' * 4\n",
      "print x"
     ],
     "language": "python",
     "metadata": {},
     "outputs": []
    },
    {
     "cell_type": "code",
     "collapsed": false,
     "input": [
      "today = \"wednesDay\"\n",
      "print today.capitalize(), today.upper(), today.lower(), today.index(\"nes\")"
     ],
     "language": "python",
     "metadata": {},
     "outputs": []
    },
    {
     "cell_type": "code",
     "collapsed": false,
     "input": [
      "greeting = \"Hello! Welcome to the world of Python programming.\"\n",
      "words = greeting.split()\n",
      "print words"
     ],
     "language": "python",
     "metadata": {},
     "outputs": []
    },
    {
     "cell_type": "code",
     "collapsed": false,
     "input": [
      "def printHi(num_of_times) :\n",
      "    print \"Hi\" * num_of_times\n",
      "printHi(7)"
     ],
     "language": "python",
     "metadata": {},
     "outputs": []
    },
    {
     "cell_type": "code",
     "collapsed": false,
     "input": [
      "def f(x,y) :\n",
      "    return x**2 + y**2\n",
      "print f(2,3), f(-2,4)"
     ],
     "language": "python",
     "metadata": {},
     "outputs": []
    },
    {
     "cell_type": "code",
     "collapsed": false,
     "input": [
      "def f2(x,y) :\n",
      "    return (x**2, y**2)\n",
      "\n",
      "print f2(2,3), f2(-2,4)"
     ],
     "language": "python",
     "metadata": {},
     "outputs": []
    },
    {
     "cell_type": "code",
     "collapsed": false,
     "input": [
      "f3 = lambda x,y : x**2 + y**2 \n",
      "print f3(2,3)"
     ],
     "language": "python",
     "metadata": {},
     "outputs": []
    },
    {
     "cell_type": "code",
     "collapsed": false,
     "input": [
      "greeting = \"Hello! Welcome to the world of Python programming.\"\n",
      "words = greeting.split()\n",
      "lengths = map(lambda word : len(word), words)\n",
      "print lengths"
     ],
     "language": "python",
     "metadata": {},
     "outputs": []
    },
    {
     "cell_type": "code",
     "collapsed": false,
     "input": [
      "import numpy\n",
      "import numpy as np\n",
      "from numpy import *\n",
      "from numpy import linalg, ndarray\n",
      "from numpy import linalg as la, ndarray as nd"
     ],
     "language": "python",
     "metadata": {},
     "outputs": []
    },
    {
     "cell_type": "code",
     "collapsed": false,
     "input": [
      "print map(lambda a : 2**a, range(5))"
     ],
     "language": "python",
     "metadata": {},
     "outputs": []
    },
    {
     "cell_type": "code",
     "collapsed": false,
     "input": [
      "a = dict(x=5, y=10, z=-3)"
     ],
     "language": "python",
     "metadata": {},
     "outputs": []
    },
    {
     "cell_type": "code",
     "collapsed": false,
     "input": [],
     "language": "python",
     "metadata": {},
     "outputs": []
    }
   ],
   "metadata": {}
  }
 ]
}