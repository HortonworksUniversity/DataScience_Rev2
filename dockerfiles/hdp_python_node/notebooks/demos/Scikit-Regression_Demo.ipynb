{
 "metadata": {
  "name": "",
  "signature": "sha256:b392b607c8c6e5d94ffe8f66d757d45e2ffb0fa012402673d8bc4ce5d4c7f672"
 },
 "nbformat": 3,
 "nbformat_minor": 0,
 "worksheets": [
  {
   "cells": [
    {
     "cell_type": "markdown",
     "metadata": {},
     "source": [
      "#Scikit-learn Regression Demo"
     ]
    },
    {
     "cell_type": "code",
     "collapsed": false,
     "input": [
      "import numpy as np"
     ],
     "language": "python",
     "metadata": {},
     "outputs": []
    },
    {
     "cell_type": "markdown",
     "metadata": {},
     "source": [
      "Start with a function for the data"
     ]
    },
    {
     "cell_type": "code",
     "collapsed": false,
     "input": [
      "def f(x) :\n",
      "    return -x*x + 4*x - 6"
     ],
     "language": "python",
     "metadata": {},
     "outputs": []
    },
    {
     "cell_type": "markdown",
     "metadata": {},
     "source": [
      "Add some \"noise\" to the data"
     ]
    },
    {
     "cell_type": "code",
     "collapsed": false,
     "input": [
      "# Create a dataset\n",
      "rng = np.random.RandomState(1)\n",
      "X = np.sort(5 * rng.rand(80, 1), axis=0)\n",
      "y = f(X).ravel()\n",
      "y[::5] += 3 * (0.5 - rng.rand(16))"
     ],
     "language": "python",
     "metadata": {},
     "outputs": []
    },
    {
     "cell_type": "markdown",
     "metadata": {},
     "source": [
      "Fit the model using Support Vector Regression"
     ]
    },
    {
     "cell_type": "code",
     "collapsed": false,
     "input": [
      "from sklearn import svm\n",
      "svr = svm.SVR()\n",
      "svr.fit(X, y) "
     ],
     "language": "python",
     "metadata": {},
     "outputs": []
    },
    {
     "cell_type": "markdown",
     "metadata": {},
     "source": [
      "Plot the points and the SVR result"
     ]
    },
    {
     "cell_type": "code",
     "collapsed": false,
     "input": [
      "X_test = np.arange(0.0, 5.0, 0.01)[:, np.newaxis]\n",
      "Y_test = svr.predict(X_test)\n",
      "\n",
      "pl.plot(X_test,Y_test,c=\"g\", label=\"SVR\")\n",
      "pl.scatter(X, y, c=\"k\", label=\"data\")\n",
      "pl.legend()\n",
      "pl.show()"
     ],
     "language": "python",
     "metadata": {},
     "outputs": []
    },
    {
     "cell_type": "markdown",
     "metadata": {},
     "source": [
      "#Fit the model using Decision Tree Regression"
     ]
    },
    {
     "cell_type": "code",
     "collapsed": false,
     "input": [
      "from sklearn.tree import DecisionTreeRegressor\n",
      "\n",
      "dt2 = DecisionTreeRegressor(max_depth=2)\n",
      "dt5 = DecisionTreeRegressor(max_depth=5)\n",
      "dt2.fit(X, y)\n",
      "dt5.fit(X, y)"
     ],
     "language": "python",
     "metadata": {},
     "outputs": []
    },
    {
     "cell_type": "markdown",
     "metadata": {},
     "source": [
      "Predict the result"
     ]
    },
    {
     "cell_type": "code",
     "collapsed": false,
     "input": [
      "y_1 = dt2.predict(X_test)\n",
      "y_2 = dt5.predict(X_test)\n",
      "\n",
      "# Plot the results\n",
      "import pylab as pl\n",
      "\n",
      "pl.figure()\n",
      "pl.scatter(X, y, c=\"k\", label=\"data\")\n",
      "pl.plot(X_test, y_1, c=\"g\", label=\"max_depth=2\", linewidth=2)\n",
      "pl.plot(X_test, y_2, c=\"r\", label=\"max_depth=5\", linewidth=2)\n",
      "pl.xlabel(\"data\")\n",
      "pl.ylabel(\"target\")\n",
      "pl.title(\"Decision Tree Regression\")\n",
      "pl.legend()\n",
      "pl.show()"
     ],
     "language": "python",
     "metadata": {},
     "outputs": []
    },
    {
     "cell_type": "code",
     "collapsed": false,
     "input": [],
     "language": "python",
     "metadata": {},
     "outputs": []
    }
   ],
   "metadata": {}
  }
 ]
}