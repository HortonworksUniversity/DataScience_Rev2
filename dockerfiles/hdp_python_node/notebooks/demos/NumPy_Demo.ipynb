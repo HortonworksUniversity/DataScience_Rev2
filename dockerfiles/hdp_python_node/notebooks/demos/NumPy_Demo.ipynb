{
 "metadata": {
  "name": "",
  "signature": "sha256:bc158cc59680b2cdca5d2972723f84623d99ce200dbfa6ce0c3055001ad4fa7b"
 },
 "nbformat": 3,
 "nbformat_minor": 0,
 "worksheets": [
  {
   "cells": [
    {
     "cell_type": "markdown",
     "metadata": {},
     "source": [
      "##Import the Module"
     ]
    },
    {
     "cell_type": "code",
     "collapsed": false,
     "input": [
      "import numpy as np"
     ],
     "language": "python",
     "metadata": {},
     "outputs": []
    },
    {
     "cell_type": "markdown",
     "metadata": {},
     "source": [
      "## Define an ndarray"
     ]
    },
    {
     "cell_type": "markdown",
     "metadata": {},
     "source": [
      "An ndarray can be created various ways. The following ndarray is created using the numpy.array function and passing in a list:"
     ]
    },
    {
     "cell_type": "code",
     "collapsed": false,
     "input": [
      "a = np.array([4,5,6,7,8,9])\n",
      "print a\n",
      "print type(a)\n",
      "print a.dtype\n",
      "print a.shape"
     ],
     "language": "python",
     "metadata": {},
     "outputs": []
    },
    {
     "cell_type": "markdown",
     "metadata": {},
     "source": [
      "##The arange Function\n",
      "A simple way to define an ndarray filled with integers is arange:"
     ]
    },
    {
     "cell_type": "code",
     "collapsed": false,
     "input": [
      "b = arange(6)\n",
      "print b\n",
      "print type(b)"
     ],
     "language": "python",
     "metadata": {},
     "outputs": []
    },
    {
     "cell_type": "markdown",
     "metadata": {},
     "source": [
      "## Array operations"
     ]
    },
    {
     "cell_type": "markdown",
     "metadata": {},
     "source": [
      "If arrays are the same size, you can perform scalar operations on them. For example"
     ]
    },
    {
     "cell_type": "code",
     "collapsed": false,
     "input": [
      "a * b"
     ],
     "language": "python",
     "metadata": {},
     "outputs": []
    },
    {
     "cell_type": "markdown",
     "metadata": {},
     "source": [
      "You can perform an operation on each element in an ndarray:"
     ]
    },
    {
     "cell_type": "code",
     "collapsed": false,
     "input": [
      "a ** 2"
     ],
     "language": "python",
     "metadata": {},
     "outputs": []
    },
    {
     "cell_type": "markdown",
     "metadata": {},
     "source": [
      "## Indexing and Slicing\n",
      "Indices work as expected with an ndarray. They are 0-based:"
     ]
    },
    {
     "cell_type": "code",
     "collapsed": false,
     "input": [
      "print a[1]"
     ],
     "language": "python",
     "metadata": {},
     "outputs": []
    },
    {
     "cell_type": "markdown",
     "metadata": {},
     "source": [
      "The slice notation also works on an ndarray object:"
     ]
    },
    {
     "cell_type": "code",
     "collapsed": false,
     "input": [
      "print a[2:4]"
     ],
     "language": "python",
     "metadata": {},
     "outputs": []
    },
    {
     "cell_type": "markdown",
     "metadata": {},
     "source": [
      "## Multi-dimensional arrays\n",
      "The \u201cnd\u201d in ndarray stands for \u201cn-dimensional\u201d, so it should be no surprise that you can have multi-dimensional ndarrays of any dimension:"
     ]
    },
    {
     "cell_type": "code",
     "collapsed": false,
     "input": [
      "m = arange(1,13).reshape(3,4)\n",
      "print m\n",
      "print m.shape"
     ],
     "language": "python",
     "metadata": {},
     "outputs": []
    },
    {
     "cell_type": "markdown",
     "metadata": {},
     "source": [
      "An index for m requires two values since it is a 2-dimensional ndarray:"
     ]
    },
    {
     "cell_type": "code",
     "collapsed": false,
     "input": [
      "m[1,2]"
     ],
     "language": "python",
     "metadata": {},
     "outputs": []
    },
    {
     "cell_type": "markdown",
     "metadata": {},
     "source": [
      "Slicing can be done at each dimension of the ndarray. For example, the following slice is the first two rows:"
     ]
    },
    {
     "cell_type": "code",
     "collapsed": false,
     "input": [
      "m[:2]"
     ],
     "language": "python",
     "metadata": {},
     "outputs": []
    },
    {
     "cell_type": "markdown",
     "metadata": {},
     "source": [
      "In a 2-dimensional array, you can slice rows and columns:"
     ]
    },
    {
     "cell_type": "code",
     "collapsed": false,
     "input": [
      "m[:2,:3]"
     ],
     "language": "python",
     "metadata": {},
     "outputs": []
    },
    {
     "cell_type": "markdown",
     "metadata": {},
     "source": [
      "Boolean expressions can be applied to the values in the index of an ndarray. For example:"
     ]
    },
    {
     "cell_type": "code",
     "collapsed": false,
     "input": [
      "m[m > 5] = -1 \n",
      "m"
     ],
     "language": "python",
     "metadata": {},
     "outputs": []
    },
    {
     "cell_type": "markdown",
     "metadata": {},
     "source": [
      "## Fancy Indexing\n",
      "NumPy has a concept known as fancy indexing for selecting specific rows from an ndarray. Let\u2019s start with an array filled with integers:"
     ]
    },
    {
     "cell_type": "code",
     "collapsed": false,
     "input": [
      "m2 = arange(60).reshape(6,10)\n",
      "m2"
     ],
     "language": "python",
     "metadata": {},
     "outputs": []
    },
    {
     "cell_type": "markdown",
     "metadata": {},
     "source": [
      "The following \u201cfancy\u201d index syntax selects the third, fourth and first row from m2, in that order:"
     ]
    },
    {
     "cell_type": "code",
     "collapsed": false,
     "input": [
      "m2[[2,3,0]]"
     ],
     "language": "python",
     "metadata": {},
     "outputs": []
    },
    {
     "cell_type": "markdown",
     "metadata": {},
     "source": [
      "You can use negative values to select backwards from the end of the array, where -1 is the last row, and so on:"
     ]
    },
    {
     "cell_type": "code",
     "collapsed": false,
     "input": [
      "m2[[-1,-2, 2]]"
     ],
     "language": "python",
     "metadata": {},
     "outputs": []
    },
    {
     "cell_type": "markdown",
     "metadata": {},
     "source": [
      "Notice you can easily transpose an ndarray object:"
     ]
    },
    {
     "cell_type": "code",
     "collapsed": false,
     "input": [
      "m2.T"
     ],
     "language": "python",
     "metadata": {},
     "outputs": []
    },
    {
     "cell_type": "markdown",
     "metadata": {},
     "source": [
      "## Linear Algebra\n",
      "Let\u2019s perform a dot product of two arrays. Start by defining the following (10,4) array of integers:"
     ]
    },
    {
     "cell_type": "code",
     "collapsed": false,
     "input": [
      "m3 = arange(40).reshape(10,4)\n",
      "m3"
     ],
     "language": "python",
     "metadata": {},
     "outputs": []
    },
    {
     "cell_type": "markdown",
     "metadata": {},
     "source": [
      "Now take the dot product of m2 (which is size 6x10) and m3 (which is size 10x4):"
     ]
    },
    {
     "cell_type": "code",
     "collapsed": false,
     "input": [
      "product = np.dot(m2,m3)\n",
      "product"
     ],
     "language": "python",
     "metadata": {},
     "outputs": []
    },
    {
     "cell_type": "markdown",
     "metadata": {},
     "source": [
      "## Plotting Image Arrays\n",
      "The matplotlib library has a function named imshow() that prints an ndarray as an image (where each value in the array represents an RGB color). Let\u2019s display the product ndarray as an image:"
     ]
    },
    {
     "cell_type": "code",
     "collapsed": false,
     "input": [
      "import matplotlib.pyplot as plt\n",
      "plt.imshow(product) "
     ],
     "language": "python",
     "metadata": {},
     "outputs": []
    },
    {
     "cell_type": "markdown",
     "metadata": {},
     "source": [
      "Let\u2019s load an image and view its ndarray object. Start by adding the following import:"
     ]
    },
    {
     "cell_type": "code",
     "collapsed": false,
     "input": [
      "import matplotlib.image as mpimg"
     ],
     "language": "python",
     "metadata": {},
     "outputs": []
    },
    {
     "cell_type": "markdown",
     "metadata": {},
     "source": [
      "There is a PNG file named hortonworks.png that is in the notebooks/demo/ folder:"
     ]
    },
    {
     "cell_type": "code",
     "collapsed": false,
     "input": [
      "hwx = mpimg.imread('hortonworks.png')\n",
      "hwx"
     ],
     "language": "python",
     "metadata": {},
     "outputs": []
    },
    {
     "cell_type": "markdown",
     "metadata": {},
     "source": [
      "You should see a large array of floats. Plot the image:"
     ]
    },
    {
     "cell_type": "code",
     "collapsed": false,
     "input": [
      "plt.imshow(hwx) "
     ],
     "language": "python",
     "metadata": {},
     "outputs": []
    },
    {
     "cell_type": "code",
     "collapsed": false,
     "input": [],
     "language": "python",
     "metadata": {},
     "outputs": []
    }
   ],
   "metadata": {}
  }
 ]
}