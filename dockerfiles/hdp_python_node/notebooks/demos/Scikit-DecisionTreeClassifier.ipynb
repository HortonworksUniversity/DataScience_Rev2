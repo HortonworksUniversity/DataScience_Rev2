{
 "metadata": {
  "name": "",
  "signature": "sha256:80c5177ab5e1e8cc9be102391c4e48f3c41753ab02aeb292a5e440c2f3a6127f"
 },
 "nbformat": 3,
 "nbformat_minor": 0,
 "worksheets": [
  {
   "cells": [
    {
     "cell_type": "code",
     "collapsed": false,
     "input": [
      "from sklearn import tree\n",
      "from pandas import read_table, DataFrame\n",
      "import pandas as pd\n",
      "from sklearn.cross_validation import cross_val_score\n",
      "from sklearn.preprocessing import Imputer"
     ],
     "language": "python",
     "metadata": {},
     "outputs": []
    },
    {
     "cell_type": "markdown",
     "metadata": {},
     "source": [
      "Read the data"
     ]
    },
    {
     "cell_type": "code",
     "collapsed": false,
     "input": [
      "train_data = pd.read_csv('/root/labs/demos/titanic/train.csv')\n",
      "train_data"
     ],
     "language": "python",
     "metadata": {},
     "outputs": []
    },
    {
     "cell_type": "markdown",
     "metadata": {},
     "source": [
      "Replace string data with numeric data. (The DecisionTreeClassifier expects numeric data types.)"
     ]
    },
    {
     "cell_type": "code",
     "collapsed": false,
     "input": [
      "def replace_strings(df):\n",
      "    df[\"Sex\"] = df[\"Sex\"].apply(lambda sex: 0 if sex == \"male\" else 1)\n",
      "    df[\"Embarked\"] = df[\"Embarked\"].apply(lambda port: 0 if port == \"S\" else 1 if port == \"C\" else 2)\n",
      "    return df"
     ],
     "language": "python",
     "metadata": {},
     "outputs": []
    },
    {
     "cell_type": "code",
     "collapsed": false,
     "input": [
      "train_data = replace_strings(train_data)\n",
      "train_data"
     ],
     "language": "python",
     "metadata": {},
     "outputs": []
    },
    {
     "cell_type": "markdown",
     "metadata": {},
     "source": [
      "Specify the columns to analyze"
     ]
    },
    {
     "cell_type": "code",
     "collapsed": false,
     "input": [
      "columns = [\"Fare\", \"Pclass\"]\n",
      "labels = train_data[\"Survived\"].values\n",
      "features = train_data[list(columns)].values"
     ],
     "language": "python",
     "metadata": {},
     "outputs": []
    },
    {
     "cell_type": "markdown",
     "metadata": {},
     "source": [
      "Create a Decision Tree and fit the training data"
     ]
    },
    {
     "cell_type": "code",
     "collapsed": false,
     "input": [
      "dtree = tree.DecisionTreeClassifier()\n",
      "dtree = dtree.fit(features,labels)\n",
      "dtree"
     ],
     "language": "python",
     "metadata": {},
     "outputs": []
    },
    {
     "cell_type": "markdown",
     "metadata": {},
     "source": [
      "Let's look at the importance of each feature"
     ]
    },
    {
     "cell_type": "code",
     "collapsed": false,
     "input": [
      " print DataFrame(dtree.feature_importances_, columns = [\"Importance\"],  index = columns).sort(['Importance'], ascending = False)"
     ],
     "language": "python",
     "metadata": {},
     "outputs": []
    },
    {
     "cell_type": "markdown",
     "metadata": {},
     "source": [
      "Estimate the accuracy of our DecisionTreeClassifier"
     ]
    },
    {
     "cell_type": "code",
     "collapsed": false,
     "input": [
      "dtree_score = cross_val_score(dtree, features, labels, n_jobs=-1).mean()\n",
      "print(\"{0} -> DTree: {1})\".format(columns, dtree_score))"
     ],
     "language": "python",
     "metadata": {},
     "outputs": []
    },
    {
     "cell_type": "markdown",
     "metadata": {},
     "source": [
      "###This is not a great score. Let's add \"Gender\" to the columns being analyzed"
     ]
    },
    {
     "cell_type": "code",
     "collapsed": false,
     "input": [
      "columns = [\"Fare\", \"Pclass\", \"Sex\"]\n",
      "labels = train_data[\"Survived\"].values\n",
      "features = train_data[list(columns)].values"
     ],
     "language": "python",
     "metadata": {},
     "outputs": []
    },
    {
     "cell_type": "code",
     "collapsed": false,
     "input": [
      "dtree = dtree.fit(features,labels)\n",
      "print DataFrame(dtree.feature_importances_, columns = [\"Importance\"],  index = columns).sort(['Importance'], ascending = False)"
     ],
     "language": "python",
     "metadata": {},
     "outputs": []
    },
    {
     "cell_type": "markdown",
     "metadata": {},
     "source": [
      "Notice gender has a fairly important level of importance.\n",
      "Let's test the accuracy again:"
     ]
    },
    {
     "cell_type": "code",
     "collapsed": false,
     "input": [
      "dtree_score = cross_val_score(dtree, features, labels, n_jobs=-1).mean()\n",
      "print(\"{0} -> DTree: {1})\".format(columns, dtree_score))"
     ],
     "language": "python",
     "metadata": {},
     "outputs": []
    },
    {
     "cell_type": "markdown",
     "metadata": {},
     "source": [
      "Not bad! We have some test data to run it against in train.csv"
     ]
    },
    {
     "cell_type": "code",
     "collapsed": false,
     "input": [
      "test_data = replace_strings(pd.read_csv('/root/labs/demos/titanic/test.csv'))\n",
      "test_data"
     ],
     "language": "python",
     "metadata": {},
     "outputs": []
    },
    {
     "cell_type": "markdown",
     "metadata": {},
     "source": [
      "Try to predict the data using our Decision Tree:"
     ]
    },
    {
     "cell_type": "code",
     "collapsed": false,
     "input": [
      "predictions = dtree.predict(test_data[columns].values)"
     ],
     "language": "python",
     "metadata": {},
     "outputs": []
    },
    {
     "cell_type": "markdown",
     "metadata": {},
     "source": [
      "###We have test values that are not set. We can clean those up using an Imputer that replaces missing values with the average value"
     ]
    },
    {
     "cell_type": "code",
     "collapsed": false,
     "input": [
      "imp = Imputer(missing_values='NaN', strategy='mean', axis=0)\n",
      "imp.fit(features)  #Compute the mean of the training data\n",
      "predictions = dtree.predict(imp.transform(test_data[columns].values))\n",
      "predictions"
     ],
     "language": "python",
     "metadata": {},
     "outputs": []
    },
    {
     "cell_type": "markdown",
     "metadata": {},
     "source": [
      "Notice it worked this time! But the output is not very helpful. Let's merge this array with the test data's DataFrame."
     ]
    },
    {
     "cell_type": "code",
     "collapsed": false,
     "input": [
      "test_data[\"Survived\"] = pd.Series(predictions)\n",
      "test_data"
     ],
     "language": "python",
     "metadata": {},
     "outputs": []
    },
    {
     "cell_type": "markdown",
     "metadata": {},
     "source": [
      "View the Decision Tree"
     ]
    },
    {
     "cell_type": "code",
     "collapsed": false,
     "input": [
      "dot_file = open('/root/notebooks/demos/dtree.dot', 'w')\n",
      "export_file = tree.export_graphviz(dtree, out_file=dot_file, feature_names= columns)\n",
      "dot_file.close()"
     ],
     "language": "python",
     "metadata": {},
     "outputs": [],
     "prompt_number": 54
    },
    {
     "cell_type": "markdown",
     "metadata": {},
     "source": [
      "Run the following command to convert the dot file into a PNG file:\n",
      "\n",
      "`dot -Tpng /root/notebooks/demos/dtree.dot -o /root/notebooks/demos/dtree.png`"
     ]
    },
    {
     "cell_type": "code",
     "collapsed": false,
     "input": [
      "!dot -Tpng /root/notebooks/demos/dtree.dot -o /root/notebooks/demos/dtree.png"
     ],
     "language": "python",
     "metadata": {},
     "outputs": []
    },
    {
     "cell_type": "markdown",
     "metadata": {},
     "source": [
      "Open the PNG file on the VM and view the decisions being made"
     ]
    }
   ],
   "metadata": {}
  }
 ]
}