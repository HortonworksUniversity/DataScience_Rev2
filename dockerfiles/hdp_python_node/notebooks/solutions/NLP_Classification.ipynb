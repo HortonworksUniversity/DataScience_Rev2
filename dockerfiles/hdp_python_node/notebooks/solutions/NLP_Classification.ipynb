{
 "metadata": {
  "name": "",
  "signature": "sha256:46c3194e5562438104eed1725331c4b2e52cd1a418854407dd9bd9c8a145e3ba"
 },
 "nbformat": 3,
 "nbformat_minor": 0,
 "worksheets": [
  {
   "cells": [
    {
     "cell_type": "code",
     "collapsed": false,
     "input": [
      "train_samples = {\n",
      "    'That was the worst movie I have ever seen': 'neg',\n",
      "    'I love you and you are a good person': 'pos',\n",
      "    'Hadoop is the coolest program ever' : 'pos',\n",
      "    'You did a nice job singing in the choir yesterday!' : 'pos',\n",
      "    'not a good day.' : 'neg',\n",
      "    'good are things are happening. lol' : 'pos',\n",
      "    'I am so mad' : 'neg',\n",
      "    'I am so rich' : 'pos',\n",
      "    'I hate brownies. They are too rich' : 'neg',\n",
      "    'I love brownies. They are so rich' : 'pos',\n",
      "    'Rainbows make me want to cry' : 'neg',\n",
      "    'I love to watch rainbows - they make me happy' : 'pos',\n",
      "    'I hate coffee' : 'neg',\n",
      "    'I love coffee' : 'pos',\n",
      "    'You make me frown' : 'neg',\n",
      "    'You make me smile' : 'pos',\n",
      "}"
     ],
     "language": "python",
     "metadata": {},
     "outputs": [],
     "prompt_number": 8
    },
    {
     "cell_type": "code",
     "collapsed": false,
     "input": [
      "import nltk\n",
      "from nltk.classify import NaiveBayesClassifier"
     ],
     "language": "python",
     "metadata": {},
     "outputs": [],
     "prompt_number": 9
    },
    {
     "cell_type": "code",
     "collapsed": false,
     "input": [
      "def create_dictionary(comment):\n",
      "    return dict([(word, True) for word in nltk.word_tokenize(comment)])"
     ],
     "language": "python",
     "metadata": {},
     "outputs": [],
     "prompt_number": 10
    },
    {
     "cell_type": "code",
     "collapsed": false,
     "input": [
      "positive_comments = []\n",
      "negative_comments = []\n",
      "for comments, label  in train_samples.items():\n",
      "    if label == 'pos' :\n",
      "        positive_comments.append(comments.lower())\n",
      "    else :\n",
      "        negative_comments.append(comments.lower())\n",
      "print positive_comments\n",
      "print negative_comments"
     ],
     "language": "python",
     "metadata": {},
     "outputs": [
      {
       "output_type": "stream",
       "stream": "stdout",
       "text": [
        "['you make me smile', 'i am so rich', 'i love brownies. they are so rich', 'i love to watch rainbows - they make me happy', 'hadoop is the coolest program ever', 'i love coffee', 'good are things are happening. lol', 'you did a nice job singing in the choir yesterday!', 'i love you and you are a good person']\n",
        "['not a good day.', 'you make me frown', 'i hate brownies. they are too rich', 'i hate coffee', 'i am so mad', 'that was the worst movie i have ever seen', 'rainbows make me want to cry']\n"
       ]
      }
     ],
     "prompt_number": 12
    },
    {
     "cell_type": "code",
     "collapsed": false,
     "input": [
      "negative_features = [(create_dictionary(comment),'neg') for comment in negative_comments]\n",
      "print negative_features"
     ],
     "language": "python",
     "metadata": {},
     "outputs": [
      {
       "output_type": "stream",
       "stream": "stdout",
       "text": [
        "[({'not': True, 'a': True, 'good': True, 'day': True, '.': True}, 'neg'), ({'me': True, 'you': True, 'make': True, 'frown': True}, 'neg'), ({'brownies.': True, 'rich': True, 'i': True, 'are': True, 'they': True, 'hate': True, 'too': True}, 'neg'), ({'i': True, 'coffee': True, 'hate': True}, 'neg'), ({'i': True, 'so': True, 'am': True, 'mad': True}, 'neg'), ({'that': True, 'i': True, 'movie': True, 'ever': True, 'worst': True, 'have': True, 'seen': True, 'the': True, 'was': True}, 'neg'), ({'me': True, 'rainbows': True, 'make': True, 'cry': True, 'to': True, 'want': True}, 'neg')]\n"
       ]
      }
     ],
     "prompt_number": 13
    },
    {
     "cell_type": "code",
     "collapsed": false,
     "input": [
      "positive_features = [(create_dictionary(comment),'pos') for comment in positive_comments]\n",
      "print positive_features"
     ],
     "language": "python",
     "metadata": {},
     "outputs": [
      {
       "output_type": "stream",
       "stream": "stdout",
       "text": [
        "[({'me': True, 'smile': True, 'you': True, 'make': True}, 'pos'), ({'i': True, 'so': True, 'am': True, 'rich': True}, 'pos'), ({'brownies.': True, 'love': True, 'rich': True, 'i': True, 'so': True, 'are': True, 'they': True}, 'pos'), ({'me': True, 'love': True, 'i': True, '-': True, 'make': True, 'watch': True, 'to': True, 'they': True, 'rainbows': True, 'happy': True}, 'pos'), ({'is': True, 'hadoop': True, 'program': True, 'the': True, 'ever': True, 'coolest': True}, 'pos'), ({'i': True, 'coffee': True, 'love': True}, 'pos'), ({'happening.': True, 'things': True, 'good': True, 'are': True, 'lol': True}, 'pos'), ({'a': True, '!': True, 'did': True, 'yesterday': True, 'choir': True, 'job': True, 'in': True, 'you': True, 'singing': True, 'the': True, 'nice': True}, 'pos'), ({'and': True, 'a': True, 'good': True, 'love': True, 'i': True, 'person': True, 'are': True, 'you': True}, 'pos')]\n"
       ]
      }
     ],
     "prompt_number": 14
    },
    {
     "cell_type": "code",
     "collapsed": false,
     "input": [
      "training_features = positive_features + negative_features\n",
      "training_features"
     ],
     "language": "python",
     "metadata": {},
     "outputs": [
      {
       "metadata": {},
       "output_type": "pyout",
       "prompt_number": 16,
       "text": [
        "[({'make': True, 'me': True, 'smile': True, 'you': True}, 'pos'),\n",
        " ({'am': True, 'i': True, 'rich': True, 'so': True}, 'pos'),\n",
        " ({'are': True,\n",
        "   'brownies.': True,\n",
        "   'i': True,\n",
        "   'love': True,\n",
        "   'rich': True,\n",
        "   'so': True,\n",
        "   'they': True},\n",
        "  'pos'),\n",
        " ({'-': True,\n",
        "   'happy': True,\n",
        "   'i': True,\n",
        "   'love': True,\n",
        "   'make': True,\n",
        "   'me': True,\n",
        "   'rainbows': True,\n",
        "   'they': True,\n",
        "   'to': True,\n",
        "   'watch': True},\n",
        "  'pos'),\n",
        " ({'coolest': True,\n",
        "   'ever': True,\n",
        "   'hadoop': True,\n",
        "   'is': True,\n",
        "   'program': True,\n",
        "   'the': True},\n",
        "  'pos'),\n",
        " ({'coffee': True, 'i': True, 'love': True}, 'pos'),\n",
        " ({'are': True, 'good': True, 'happening.': True, 'lol': True, 'things': True},\n",
        "  'pos'),\n",
        " ({'!': True,\n",
        "   'a': True,\n",
        "   'choir': True,\n",
        "   'did': True,\n",
        "   'in': True,\n",
        "   'job': True,\n",
        "   'nice': True,\n",
        "   'singing': True,\n",
        "   'the': True,\n",
        "   'yesterday': True,\n",
        "   'you': True},\n",
        "  'pos'),\n",
        " ({'a': True,\n",
        "   'and': True,\n",
        "   'are': True,\n",
        "   'good': True,\n",
        "   'i': True,\n",
        "   'love': True,\n",
        "   'person': True,\n",
        "   'you': True},\n",
        "  'pos'),\n",
        " ({'.': True, 'a': True, 'day': True, 'good': True, 'not': True}, 'neg'),\n",
        " ({'frown': True, 'make': True, 'me': True, 'you': True}, 'neg'),\n",
        " ({'are': True,\n",
        "   'brownies.': True,\n",
        "   'hate': True,\n",
        "   'i': True,\n",
        "   'rich': True,\n",
        "   'they': True,\n",
        "   'too': True},\n",
        "  'neg'),\n",
        " ({'coffee': True, 'hate': True, 'i': True}, 'neg'),\n",
        " ({'am': True, 'i': True, 'mad': True, 'so': True}, 'neg'),\n",
        " ({'ever': True,\n",
        "   'have': True,\n",
        "   'i': True,\n",
        "   'movie': True,\n",
        "   'seen': True,\n",
        "   'that': True,\n",
        "   'the': True,\n",
        "   'was': True,\n",
        "   'worst': True},\n",
        "  'neg'),\n",
        " ({'cry': True,\n",
        "   'make': True,\n",
        "   'me': True,\n",
        "   'rainbows': True,\n",
        "   'to': True,\n",
        "   'want': True},\n",
        "  'neg')]"
       ]
      }
     ],
     "prompt_number": 16
    },
    {
     "cell_type": "code",
     "collapsed": false,
     "input": [
      "classifier = NaiveBayesClassifier.train(training_features)\n",
      "classifier.show_most_informative_features()"
     ],
     "language": "python",
     "metadata": {},
     "outputs": [
      {
       "output_type": "stream",
       "stream": "stdout",
       "text": [
        "Most Informative Features\n",
        "                     you = True              pos : neg    =      1.9 : 1.0\n",
        "                     are = True              pos : neg    =      1.9 : 1.0\n",
        "                    love = None              neg : pos    =      1.7 : 1.0\n",
        "                    hate = None              pos : neg    =      1.4 : 1.0\n",
        "                       a = True              pos : neg    =      1.3 : 1.0\n",
        "                     the = True              pos : neg    =      1.3 : 1.0\n",
        "                    rich = True              pos : neg    =      1.3 : 1.0\n",
        "                    good = True              pos : neg    =      1.3 : 1.0\n",
        "                      so = True              pos : neg    =      1.3 : 1.0\n",
        "                    they = True              pos : neg    =      1.3 : 1.0\n"
       ]
      }
     ],
     "prompt_number": 17
    },
    {
     "cell_type": "code",
     "collapsed": false,
     "input": [],
     "language": "python",
     "metadata": {},
     "outputs": []
    }
   ],
   "metadata": {}
  }
 ]
}