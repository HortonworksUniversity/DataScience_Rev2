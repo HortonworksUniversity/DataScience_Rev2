{
 "metadata": {
  "name": "",
  "signature": "sha256:49fca32e7f158243119117e0aae66b31ba999889db9b87494e6acae29791779b"
 },
 "nbformat": 3,
 "nbformat_minor": 0,
 "worksheets": [
  {
   "cells": [
    {
     "cell_type": "code",
     "collapsed": false,
     "input": [
      "from pyspark import SparkContext\n",
      "from pyspark.mllib.recommendation import ALS\n",
      "from numpy import array"
     ],
     "language": "python",
     "metadata": {},
     "outputs": [],
     "prompt_number": 2
    },
    {
     "cell_type": "code",
     "collapsed": false,
     "input": [
      "data = sc.textFile(\"test.data\")\n",
      "ratings = data.map(lambda line: array([float(x) for x in line.split(',')]))\n",
      "ratings.take(10)"
     ],
     "language": "python",
     "metadata": {},
     "outputs": [
      {
       "metadata": {},
       "output_type": "pyout",
       "prompt_number": 3,
       "text": [
        "[array([ 1.,  1.,  5.]),\n",
        " array([ 1.,  2.,  1.]),\n",
        " array([ 1.,  3.,  5.]),\n",
        " array([ 1.,  4.,  1.]),\n",
        " array([ 2.,  1.,  5.]),\n",
        " array([ 2.,  2.,  1.]),\n",
        " array([ 2.,  3.,  5.]),\n",
        " array([ 2.,  4.,  1.]),\n",
        " array([ 3.,  1.,  1.]),\n",
        " array([ 3.,  2.,  5.])]"
       ]
      }
     ],
     "prompt_number": 3
    },
    {
     "cell_type": "code",
     "collapsed": false,
     "input": [
      "# Build the recommendation model using Alternating Least Squares\n",
      "model = ALS.train(ratings, 1, 20)\n",
      "model"
     ],
     "language": "python",
     "metadata": {},
     "outputs": [
      {
       "metadata": {},
       "output_type": "pyout",
       "prompt_number": 4,
       "text": [
        "<pyspark.mllib.recommendation.MatrixFactorizationModel at 0x7f1940d1c9d0>"
       ]
      }
     ],
     "prompt_number": 4
    },
    {
     "cell_type": "code",
     "collapsed": false,
     "input": [
      "# Evaluate the model on training data\n",
      "testdata = ratings.map(lambda p: (int(p[0]), int(p[1])))\n",
      "predictions = model.predictAll(testdata).map(lambda r: ((r[0], r[1]), r[2]))\n",
      "ratesAndPreds = ratings.map(lambda r: ((r[0], r[1]), r[2])).join(predictions)\n",
      "MSE = ratesAndPreds.map(lambda r: (r[1][0] - r[1][1])**2).reduce(lambda x, y: x + y)/ratesAndPreds.count()\n",
      "print(\"Mean Squared Error = \" + str(MSE))"
     ],
     "language": "python",
     "metadata": {},
     "outputs": [
      {
       "output_type": "stream",
       "stream": "stdout",
       "text": [
        "Mean Squared Error = 4.00000082245\n"
       ]
      }
     ],
     "prompt_number": 5
    },
    {
     "cell_type": "code",
     "collapsed": false,
     "input": [],
     "language": "python",
     "metadata": {},
     "outputs": []
    }
   ],
   "metadata": {}
  }
 ]
}