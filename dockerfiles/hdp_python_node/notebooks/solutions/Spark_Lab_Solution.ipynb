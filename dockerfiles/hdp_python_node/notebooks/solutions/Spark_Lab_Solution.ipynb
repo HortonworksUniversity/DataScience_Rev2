{
 "metadata": {
  "name": "",
  "signature": "sha256:4b2bf770ccf2923e4830533d1d28cef13b4c439c90e8aa9001fc9f3013732fa9"
 },
 "nbformat": 3,
 "nbformat_minor": 0,
 "worksheets": [
  {
   "cells": [
    {
     "cell_type": "code",
     "collapsed": false,
     "input": [
      "from pyspark import SparkContext"
     ],
     "language": "python",
     "metadata": {},
     "outputs": []
    },
    {
     "cell_type": "code",
     "collapsed": false,
     "input": [
      "sourcefile = sc.textFile(\"/user/root/whitehouse_visits.txt\")"
     ],
     "language": "python",
     "metadata": {},
     "outputs": []
    },
    {
     "cell_type": "code",
     "collapsed": false,
     "input": [
      "def project(rec):\n",
      "    fields = rec.split(',')\n",
      "    return (\", \".join(list([fields[i] for i in [0, 1]])), fields[19])\n",
      "projection = sourcefile.map(lambda rec: project(rec))"
     ],
     "language": "python",
     "metadata": {},
     "outputs": []
    },
    {
     "cell_type": "code",
     "collapsed": false,
     "input": [
      "potus = projection.filter(lambda rec: \"POTUS\" in rec[1])\n",
      "potus_count = potus.map(lambda rec: (rec[0], 1))\n",
      "counts = potus_count.reduceByKey(lambda a,b: a + b)\n",
      "counts_key = counts.map(lambda rec: (rec[1], rec[0]))\n",
      "sorted_counts = counts_key.sortByKey(ascending = False)\n",
      "sorted_counts.take(100)"
     ],
     "language": "python",
     "metadata": {},
     "outputs": []
    }
   ],
   "metadata": {}
  }
 ]
}