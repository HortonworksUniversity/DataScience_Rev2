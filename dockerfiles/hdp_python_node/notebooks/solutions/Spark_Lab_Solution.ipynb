{
 "metadata": {
  "name": "",
  "signature": "sha256:0411da1f1f855f277796dd58ba9ef207711db1fefa4e14f89a54963026e0adfa"
 },
 "nbformat": 3,
 "nbformat_minor": 0,
 "worksheets": [
  {
   "cells": [
    {
     "cell_type": "code",
     "collapsed": false,
     "input": [
      "from pyspark import SparkContext"
     ],
     "language": "python",
     "metadata": {},
     "outputs": []
    },
    {
     "cell_type": "code",
     "collapsed": false,
     "input": [
      "sourcefile = sc.textFile(\"/user/root/whitehouse_visits.txt\")\n",
      "sourcefile"
     ],
     "language": "python",
     "metadata": {},
     "outputs": []
    },
    {
     "cell_type": "code",
     "collapsed": false,
     "input": [
      "def project(rec):\n",
      "    fields = rec.split(',')\n",
      "    return (\", \".join(list([fields[i] for i in [0, 1]])), fields[19])\n",
      "projection = sourcefile.map(lambda rec: project(rec))\n",
      "projection.take(10)"
     ],
     "language": "python",
     "metadata": {},
     "outputs": []
    },
    {
     "cell_type": "code",
     "collapsed": false,
     "input": [
      "potus = projection.filter(lambda rec: \"POTUS\" in rec[1])\n",
      "potus.take(10)"
     ],
     "language": "python",
     "metadata": {},
     "outputs": []
    },
    {
     "cell_type": "code",
     "collapsed": false,
     "input": [
      "potus_count = potus.map(lambda rec: (rec[0], 1))\n",
      "potus_count.take(10)"
     ],
     "language": "python",
     "metadata": {},
     "outputs": []
    },
    {
     "cell_type": "code",
     "collapsed": false,
     "input": [
      "counts = potus_count.reduceByKey(lambda a,b: a + b)\n",
      "counts.take(10)"
     ],
     "language": "python",
     "metadata": {},
     "outputs": []
    },
    {
     "cell_type": "code",
     "collapsed": false,
     "input": [
      "counts_key = counts.map(lambda rec: (rec[1], rec[0]))\n",
      "counts_key.take(10)"
     ],
     "language": "python",
     "metadata": {},
     "outputs": []
    },
    {
     "cell_type": "code",
     "collapsed": false,
     "input": [
      "sorted_counts = counts_key.sortByKey(ascending = False)\n",
      "sorted_counts.take(100)"
     ],
     "language": "python",
     "metadata": {},
     "outputs": []
    },
    {
     "cell_type": "code",
     "collapsed": false,
     "input": [],
     "language": "python",
     "metadata": {},
     "outputs": []
    }
   ],
   "metadata": {}
  }
 ]
}