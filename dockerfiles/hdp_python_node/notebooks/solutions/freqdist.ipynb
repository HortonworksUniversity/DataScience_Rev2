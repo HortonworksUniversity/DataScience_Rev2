{
 "metadata": {
  "name": "",
  "signature": "sha256:31a0976511ba1ce1f9361f08dcbdd12f8df52f348a82c61d4986ce1242071d56"
 },
 "nbformat": 3,
 "nbformat_minor": 0,
 "worksheets": [
  {
   "cells": [
    {
     "cell_type": "code",
     "collapsed": false,
     "input": [
      "#!/usr/bin/python\n",
      "\n",
      "import fileinput\n",
      "import string\n",
      "from nltk import FreqDist\n",
      "from nltk.tokenize import RegexpTokenizer\n",
      "\n",
      "replace_punctuation = string.maketrans(string.punctuation, ' '*len(string.punctuation))\n",
      "cleaned_input = \"\"\n",
      "for line in fileinput.input():\n",
      "    line=line.strip()\n",
      "    line=line.translate(replace_punctuation)\n",
      "    cleaned_input += line + \" \"\n",
      "\n",
      "tokenizer = RegexpTokenizer(r'\\w+')\n",
      "freq = FreqDist(tokenizer.tokenize(cleaned_input))\n",
      "for k in freq.keys()[:50]:\n",
      "    print \"%s\\t%s\" % (k, freq[k]) "
     ],
     "language": "python",
     "metadata": {},
     "outputs": []
    }
   ],
   "metadata": {}
  }
 ]
}