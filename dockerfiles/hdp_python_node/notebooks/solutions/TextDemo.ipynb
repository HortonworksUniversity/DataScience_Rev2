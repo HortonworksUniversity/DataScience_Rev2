{
 "metadata": {
  "name": "",
  "signature": "sha256:110220943df3a9875cca8d5bbde055644b18347fdf82ae396b905dd4c909a93e"
 },
 "nbformat": 3,
 "nbformat_minor": 0,
 "worksheets": [
  {
   "cells": [
    {
     "cell_type": "code",
     "collapsed": false,
     "input": [
      "tweets = ['I love the New York Yankees!!! They are awesome!',\n",
      "'The food in the school cafeteria is awful',\n",
      "'Iron Man 3 was fine, bit I liked Thor better.',\n",
      "'That taxi ride was not fun!',\n",
      "'The Yankess are so lame!']\n",
      "\n",
      "for tweet in tweets:\n",
      "    print tweet"
     ],
     "language": "python",
     "metadata": {},
     "outputs": []
    },
    {
     "cell_type": "code",
     "collapsed": false,
     "input": [
      "positive_words = ['awesome', 'good', 'nice', 'super', 'fun']\n",
      "negative_words = ['awful','lame','horrible','bad']\n",
      "neutral_words = ['ok','fine','decent']\n",
      "\n",
      "for tweet in tweets :\n",
      "    words = tweet.split()\n",
      "#   print words\n",
      "    for word in words :\n",
      "        if word in negative_words :\n",
      "            print tweet\n"
     ],
     "language": "python",
     "metadata": {},
     "outputs": []
    },
    {
     "cell_type": "code",
     "collapsed": false,
     "input": [
      "from string import punctuation\n",
      "print punctuation"
     ],
     "language": "python",
     "metadata": {},
     "outputs": []
    },
    {
     "cell_type": "code",
     "collapsed": false,
     "input": [
      "for tweet in tweets :\n",
      "    words = tweet.split()\n",
      "    for word in words :\n",
      "        word_lowered = word.lower()\n",
      "        word_clean = word_lowered.strip(punctuation)\n",
      "        if word_clean in negative_words :\n",
      "            print tweet"
     ],
     "language": "python",
     "metadata": {},
     "outputs": []
    },
    {
     "cell_type": "code",
     "collapsed": false,
     "input": [
      "for tweet in tweets :\n",
      "    print tweet[0:9]"
     ],
     "language": "python",
     "metadata": {},
     "outputs": []
    },
    {
     "cell_type": "code",
     "collapsed": false,
     "input": [
      "for tweet in tweets :\n",
      "    print tweet[:15]"
     ],
     "language": "python",
     "metadata": {},
     "outputs": []
    },
    {
     "cell_type": "code",
     "collapsed": false,
     "input": [
      "for tweet in tweets :\n",
      "    print tweet[15:]"
     ],
     "language": "python",
     "metadata": {},
     "outputs": []
    },
    {
     "cell_type": "code",
     "collapsed": false,
     "input": [
      "for tweet in tweets :\n",
      "    print tweet[-10:]"
     ],
     "language": "python",
     "metadata": {},
     "outputs": []
    },
    {
     "cell_type": "code",
     "collapsed": false,
     "input": [
      "for tweet in tweets :\n",
      "    print tweet[-10:-5]"
     ],
     "language": "python",
     "metadata": {},
     "outputs": []
    },
    {
     "cell_type": "code",
     "collapsed": false,
     "input": [
      "for tweet in tweets :\n",
      "    print tweet[5:len(tweet)]"
     ],
     "language": "python",
     "metadata": {},
     "outputs": []
    },
    {
     "cell_type": "code",
     "collapsed": false,
     "input": [
      "for tweet in tweets :\n",
      "    print tweet[:-1]"
     ],
     "language": "python",
     "metadata": {},
     "outputs": []
    },
    {
     "cell_type": "code",
     "collapsed": false,
     "input": [
      "positive_tweets = 0\n",
      "for tweet in tweets:\n",
      "    words = tweet.split()\n",
      "    for word in words :\n",
      "        word_lowered = word.lower()\n",
      "        word_clean = word_lowered.strip(punctuation)\n",
      "        if word_clean in positive_words :\n",
      "            positive_tweets += 1\n",
      "            break\n",
      "print \"Number of tweets with positive words = %s\" % positive_tweets"
     ],
     "language": "python",
     "metadata": {},
     "outputs": []
    }
   ],
   "metadata": {}
  }
 ]
}