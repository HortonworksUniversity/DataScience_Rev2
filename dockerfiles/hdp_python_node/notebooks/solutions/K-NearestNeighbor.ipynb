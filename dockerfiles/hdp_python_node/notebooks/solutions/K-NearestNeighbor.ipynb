{
 "metadata": {
  "name": "",
  "signature": "sha256:198363abd58988ac9f8cd4a2c6a5ca37320c6ffa0991d3eb2ccfbc2da43573c4"
 },
 "nbformat": 3,
 "nbformat_minor": 0,
 "worksheets": [
  {
   "cells": [
    {
     "cell_type": "code",
     "collapsed": false,
     "input": [
      "import random\n",
      "import operator\n",
      "import numpy as np\n",
      "import pandas as pd\n",
      "import matplotlib.pyplot as plt\n",
      "from pandas import DataFrame"
     ],
     "language": "python",
     "metadata": {},
     "outputs": []
    },
    {
     "cell_type": "code",
     "collapsed": false,
     "input": [
      "def knn(X, dataSet, k):\n",
      "    dataSetSize = dataSet.shape[0]\n",
      "    #distance calculation\n",
      "    diffMat = tile(X, (dataSetSize,1)) - dataSet\n",
      "    sqDiffMat = diffMat**2\n",
      "    sqDistances = sqDiffMat.sum(axis=1)\n",
      "    distances = sqDistances**0.5\n",
      "\n",
      "    #sort results\n",
      "    distances.sort()\n",
      "    \n",
      "    #vote using k lowest distances\n",
      "    top_labels = distances.head(k).index.tolist()\n",
      "    label_counts = dict((i, top_labels.count(i)) for i in top_labels)\n",
      "    return max(label_counts.iteritems(), key=operator.itemgetter(1))[0] "
     ],
     "language": "python",
     "metadata": {},
     "outputs": []
    },
    {
     "cell_type": "code",
     "collapsed": false,
     "input": [
      "labels = [\"A\", \"B\", \"C\", \"D\"] * 25\n",
      "random.shuffle(labels)\n",
      "\n",
      "#Generate random points\n",
      "N = 100\n",
      "data = DataFrame(np.random.randint(0, 100, size=(N, 2)), columns = [\"x\", \"y\"], index = labels)\n",
      "\n",
      "#Define a test point\n",
      "test_point = DataFrame({\"x\": [15], \"y\": [30]})"
     ],
     "language": "python",
     "metadata": {},
     "outputs": []
    },
    {
     "cell_type": "code",
     "collapsed": false,
     "input": [
      "#Invoke the knn function\n",
      "k = 5\n",
      "result_label = knn(test_point, data, k)\n",
      "print \"***Result = %s***\" % result_label"
     ],
     "language": "python",
     "metadata": {},
     "outputs": []
    },
    {
     "cell_type": "code",
     "collapsed": false,
     "input": [
      "# Plot the points\n",
      "f = plt.figure()\n",
      "ax = f.add_subplot(1, 1, 1)\n",
      "ax.set_title(\"K-Nearest Neighbor\")\n",
      "a = ax.scatter(data.ix[\"A\"][\"x\"], data.ix[\"A\"][\"y\"], c=\"Blue\", s=75)\n",
      "b = ax.scatter(data.ix[\"B\"][\"x\"], data.ix[\"B\"][\"y\"], c=\"Green\", s=75)\n",
      "c = ax.scatter(data.ix[\"C\"][\"x\"], data.ix[\"C\"][\"y\"], c=\"Red\", s=75)\n",
      "d = ax.scatter(data.ix[\"D\"][\"x\"], data.ix[\"D\"][\"y\"], c=\"Black\", s=75)\n",
      "point = ax.scatter(test_point[\"x\"], test_point[\"y\"], c=\"Yellow\", s=100)\n",
      "ax.legend((a,b,c,d, point), (\"A\", \"B\", \"C\", \"D\", \"test point\"), bbox_to_anchor=(1.05, 1), loc=2, borderaxespad=0., scatterpoints=1)"
     ],
     "language": "python",
     "metadata": {},
     "outputs": []
    },
    {
     "cell_type": "code",
     "collapsed": false,
     "input": [],
     "language": "python",
     "metadata": {},
     "outputs": []
    }
   ],
   "metadata": {}
  }
 ]
}