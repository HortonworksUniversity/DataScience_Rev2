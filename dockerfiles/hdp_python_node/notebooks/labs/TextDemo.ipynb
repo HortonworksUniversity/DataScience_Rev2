{
 "metadata": {
  "name": ""
 },
 "nbformat": 3,
 "nbformat_minor": 0,
 "worksheets": [
  {
   "cells": [
    {
     "cell_type": "code",
     "collapsed": false,
     "input": [
      "tweets = ['I love the New York Yankees!!! They are awesome!',\n",
      "'The food in the school cafeteria is awful',\n",
      "'Iron Man 3 was fine, bit I liked Thor better.',\n",
      "'That taxi ride was not fun!',\n",
      "'The Yankess are so lame!']\n"
     ],
     "language": "python",
     "metadata": {},
     "outputs": [],
     "prompt_number": 45
    },
    {
     "cell_type": "code",
     "collapsed": false,
     "input": [
      "positive_words = ['awesome', 'good', 'nice', 'super', 'fun']\n",
      "negative_words = ['awful','lame','horrible','bad']\n",
      "neutral_words = ['ok','fine','decent']\n"
     ],
     "language": "python",
     "metadata": {},
     "outputs": [],
     "prompt_number": 46
    },
    {
     "cell_type": "code",
     "collapsed": false,
     "input": [],
     "language": "python",
     "metadata": {},
     "outputs": []
    }
   ],
   "metadata": {}
  }
 ]
}