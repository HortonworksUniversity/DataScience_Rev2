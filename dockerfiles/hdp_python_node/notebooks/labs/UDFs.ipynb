{
 "metadata": {
  "name": "",
  "signature": "sha256:921a921b2136a9b94af0105a97b5e1a28d817bcb7bfb2b609803aae11a15e895"
 },
 "nbformat": 3,
 "nbformat_minor": 0,
 "worksheets": [
  {
   "cells": [
    {
     "cell_type": "code",
     "collapsed": false,
     "input": [
      "#! /usr/bin/env python\n",
      "\n",
      "\n",
      "\n",
      "\n",
      "for_split = [',', '\\n', '\\t', '\\'', '.', '\\\"', '!', '?', '-', '~', '[', ']', \n",
      "        '=', '(', ')', '\\\"', ':', ';', '{', '}', '<', '>']\n",
      "ignored = ['Re:', 'the', 'and', 'i', 'to', 'of', 'a', 'in', 'was', 'that', 'had',\n",
      "        'he', 'you', 'his','my', 'it', 'as', 'with', 'her', 'for', 'on']\n",
      "\n"
     ],
     "language": "python",
     "metadata": {},
     "outputs": []
    }
   ],
   "metadata": {}
  }
 ]
}