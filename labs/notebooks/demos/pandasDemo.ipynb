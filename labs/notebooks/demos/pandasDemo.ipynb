{
 "metadata": {
  "name": "",
  "signature": "sha256:aecf327586c0de5a8a719fcc3b1e28e01a6446b43ac2498d2e26b8dacb90a5c6"
 },
 "nbformat": 3,
 "nbformat_minor": 0,
 "worksheets": [
  {
   "cells": [
    {
     "cell_type": "markdown",
     "metadata": {},
     "source": [
      "##Import modules"
     ]
    },
    {
     "cell_type": "code",
     "collapsed": false,
     "input": [
      "import pandas as pd\n",
      "import numpy as np\n",
      "from pandas import DataFrame, Series"
     ],
     "language": "python",
     "metadata": {},
     "outputs": []
    },
    {
     "cell_type": "markdown",
     "metadata": {},
     "source": [
      "##Working with Series"
     ]
    },
    {
     "cell_type": "markdown",
     "metadata": {},
     "source": [
      "\n",
      "A Series is a one-dimensional array-like object containing an array of data of any NumPy data type. For example:"
     ]
    },
    {
     "cell_type": "code",
     "collapsed": false,
     "input": [
      "x1 = Series([12,-5,7,15,-2])\n",
      "x1"
     ],
     "language": "python",
     "metadata": {},
     "outputs": []
    },
    {
     "cell_type": "markdown",
     "metadata": {},
     "source": [
      "You can print just the values"
     ]
    },
    {
     "cell_type": "code",
     "collapsed": false,
     "input": [
      "x1.values"
     ],
     "language": "python",
     "metadata": {},
     "outputs": []
    },
    {
     "cell_type": "markdown",
     "metadata": {},
     "source": [
      "You can print just the indices:"
     ]
    },
    {
     "cell_type": "code",
     "collapsed": false,
     "input": [
      "x1.index"
     ],
     "language": "python",
     "metadata": {},
     "outputs": []
    },
    {
     "cell_type": "markdown",
     "metadata": {},
     "source": [
      "You can specify a value by its index:"
     ]
    },
    {
     "cell_type": "code",
     "collapsed": false,
     "input": [
      "x1[2]"
     ],
     "language": "python",
     "metadata": {},
     "outputs": []
    },
    {
     "cell_type": "markdown",
     "metadata": {},
     "source": [
      "You can specify multiple indexes and in any order you want using double square brackets:"
     ]
    },
    {
     "cell_type": "code",
     "collapsed": false,
     "input": [
      "x1[[2,0,3]]"
     ],
     "language": "python",
     "metadata": {},
     "outputs": []
    },
    {
     "cell_type": "markdown",
     "metadata": {},
     "source": [
      "You can specify a Boolean expression within the square brackets:"
     ]
    },
    {
     "cell_type": "code",
     "collapsed": false,
     "input": [
      "x1[x1 < 0]"
     ],
     "language": "python",
     "metadata": {},
     "outputs": []
    },
    {
     "cell_type": "markdown",
     "metadata": {},
     "source": [
      "You can perform mathematical operations on each value in a Series. Try the following:"
     ]
    },
    {
     "cell_type": "code",
     "collapsed": false,
     "input": [
      "print x1 * 2\n",
      "print x1**2"
     ],
     "language": "python",
     "metadata": {},
     "outputs": []
    },
    {
     "cell_type": "markdown",
     "metadata": {},
     "source": [
      "##Creating a Series from a dict"
     ]
    },
    {
     "cell_type": "markdown",
     "metadata": {},
     "source": [
      "You can create a Series from a dict:"
     ]
    },
    {
     "cell_type": "code",
     "collapsed": false,
     "input": [
      "sdata = {'Ohio': 35000, 'Texas': 71000, 'Oregon': 16000, 'Utah': 5000}\n",
      "x2 = Series(sdata)\n",
      "x2"
     ],
     "language": "python",
     "metadata": {},
     "outputs": []
    },
    {
     "cell_type": "markdown",
     "metadata": {},
     "source": [
      "You can create a Series from a dict and specify the indexes you want:"
     ]
    },
    {
     "cell_type": "code",
     "collapsed": false,
     "input": [
      "states = ['California', 'Ohio', 'Oregon', 'Texas']\n",
      "x3 = Series(sdata, index=states)\n",
      "x3"
     ],
     "language": "python",
     "metadata": {},
     "outputs": []
    },
    {
     "cell_type": "markdown",
     "metadata": {},
     "source": [
      "Notice California is \u2018NaN\u2019 and Utah does not appear in x3. Also notice the data type of the numeric column changed from int64 to float64 because of the introduction of a \u2018NaN\u2019 value. "
     ]
    },
    {
     "cell_type": "markdown",
     "metadata": {},
     "source": [
      "Use the isnull function on the x3 series:"
     ]
    },
    {
     "cell_type": "code",
     "collapsed": false,
     "input": [
      "pd.isnull(x3)"
     ],
     "language": "python",
     "metadata": {},
     "outputs": []
    },
    {
     "cell_type": "markdown",
     "metadata": {},
     "source": [
      "You can drop nulls from a Series using the dropna function:"
     ]
    },
    {
     "cell_type": "code",
     "collapsed": false,
     "input": [
      "x3.dropna()"
     ],
     "language": "python",
     "metadata": {},
     "outputs": []
    },
    {
     "cell_type": "markdown",
     "metadata": {},
     "source": [
      "##Plotting Series"
     ]
    },
    {
     "cell_type": "markdown",
     "metadata": {},
     "source": [
      "The Series class has a plot() function:"
     ]
    },
    {
     "cell_type": "code",
     "collapsed": false,
     "input": [
      "x2.plot?"
     ],
     "language": "python",
     "metadata": {},
     "outputs": []
    },
    {
     "cell_type": "code",
     "collapsed": false,
     "input": [
      "x2.plot(kind='bar')"
     ],
     "language": "python",
     "metadata": {},
     "outputs": []
    },
    {
     "cell_type": "markdown",
     "metadata": {},
     "source": [
      "#Constructing DataFrames"
     ]
    },
    {
     "cell_type": "markdown",
     "metadata": {},
     "source": [
      "A DataFrame represents a tabular, spreadsheet-like data structure containing an ordered collection of columns. You can create one from dicts of equal length:"
     ]
    },
    {
     "cell_type": "code",
     "collapsed": false,
     "input": [
      "data = {'state' : ['California', 'Texas', 'Oregon', 'Ohio'],\n",
      "        'population' : [38.3,26.4,3.9,11.5]}\n",
      "f1 = DataFrame(data)\n",
      "f1"
     ],
     "language": "python",
     "metadata": {},
     "outputs": []
    },
    {
     "cell_type": "markdown",
     "metadata": {},
     "source": [
      "Notice in the output of f1 that the population was chosen as the first column. You can specify the order of columns using the columns attribute:"
     ]
    },
    {
     "cell_type": "code",
     "collapsed": false,
     "input": [
      "f2 = DataFrame(data,columns=['state','population'])\n",
      "f2"
     ],
     "language": "python",
     "metadata": {},
     "outputs": []
    },
    {
     "cell_type": "markdown",
     "metadata": {},
     "source": [
      "If a column listed in columns does not exist in the data, then the values will be NaN:"
     ]
    },
    {
     "cell_type": "code",
     "collapsed": false,
     "input": [
      "f3 = DataFrame(data,columns=['state','population','percent'])\n",
      "f3"
     ],
     "language": "python",
     "metadata": {},
     "outputs": []
    },
    {
     "cell_type": "markdown",
     "metadata": {},
     "source": [
      "Adding a \u2018percent\u2019 dict resolves that issue:"
     ]
    },
    {
     "cell_type": "code",
     "collapsed": false,
     "input": [
      "data = {'state' : ['California', 'Texas', 'Oregon', 'Ohio'],\n",
      "        'population' : [38.3,26.4,3.9,11.5],\n",
      "        'percent' : [11.9,8.0,1.2,3.7]}\n",
      "f4 = DataFrame(data,columns=['state','population','percent'])\n",
      "f4"
     ],
     "language": "python",
     "metadata": {},
     "outputs": []
    },
    {
     "cell_type": "markdown",
     "metadata": {},
     "source": [
      "You can specify a custom index as well using the index attribute:"
     ]
    },
    {
     "cell_type": "code",
     "collapsed": false,
     "input": [
      "f5 = DataFrame(data,columns=['state','population','percent'],\n",
      "               index=[31,28,33,17])\n",
      "f5"
     ],
     "language": "python",
     "metadata": {},
     "outputs": []
    },
    {
     "cell_type": "markdown",
     "metadata": {},
     "source": [
      "##Accessing Cells"
     ]
    },
    {
     "cell_type": "markdown",
     "metadata": {},
     "source": [
      "The DataFrame object has a columns function for retrieving the column names:"
     ]
    },
    {
     "cell_type": "code",
     "collapsed": false,
     "input": [
      "f5.columns"
     ],
     "language": "python",
     "metadata": {},
     "outputs": []
    },
    {
     "cell_type": "markdown",
     "metadata": {},
     "source": [
      "You can retrieve a single column using either the column name (like in a dict):"
     ]
    },
    {
     "cell_type": "code",
     "collapsed": false,
     "input": [
      "f5['population']"
     ],
     "language": "python",
     "metadata": {},
     "outputs": []
    },
    {
     "cell_type": "markdown",
     "metadata": {},
     "source": [
      "or you can reference a column like its an attribute:"
     ]
    },
    {
     "cell_type": "code",
     "collapsed": false,
     "input": [
      "f5.population"
     ],
     "language": "python",
     "metadata": {},
     "outputs": []
    },
    {
     "cell_type": "markdown",
     "metadata": {},
     "source": [
      "You can perform operations and create Boolean expressions:"
     ]
    },
    {
     "cell_type": "code",
     "collapsed": false,
     "input": [
      "f5.population > 20"
     ],
     "language": "python",
     "metadata": {},
     "outputs": []
    },
    {
     "cell_type": "markdown",
     "metadata": {},
     "source": [
      "Use the ix attribute to access a specific cell by row and column:"
     ]
    },
    {
     "cell_type": "code",
     "collapsed": false,
     "input": [
      "f5.loc[28,'state']"
     ],
     "language": "python",
     "metadata": {},
     "outputs": []
    },
    {
     "cell_type": "markdown",
     "metadata": {},
     "source": [
      "You can slice a range of rows:"
     ]
    },
    {
     "cell_type": "code",
     "collapsed": false,
     "input": [
      "f5[:2]"
     ],
     "language": "python",
     "metadata": {},
     "outputs": []
    },
    {
     "cell_type": "code",
     "collapsed": false,
     "input": [
      "f5[1:]"
     ],
     "language": "python",
     "metadata": {},
     "outputs": []
    },
    {
     "cell_type": "markdown",
     "metadata": {},
     "source": [
      "You can transpose a DataFrame:"
     ]
    },
    {
     "cell_type": "code",
     "collapsed": false,
     "input": [
      "f5.T"
     ],
     "language": "python",
     "metadata": {},
     "outputs": []
    },
    {
     "cell_type": "markdown",
     "metadata": {},
     "source": [
      "##Sorting DataFrames"
     ]
    },
    {
     "cell_type": "markdown",
     "metadata": {},
     "source": [
      "Use sort_index to sort the rows of a DataFrame by the index:"
     ]
    },
    {
     "cell_type": "code",
     "collapsed": false,
     "input": [
      "f5.sort_index()"
     ],
     "language": "python",
     "metadata": {},
     "outputs": []
    },
    {
     "cell_type": "markdown",
     "metadata": {},
     "source": [
      "You can also specify which column (or columns) to sort by:"
     ]
    },
    {
     "cell_type": "code",
     "collapsed": false,
     "input": [
      "f5.sort_index(by='state')"
     ],
     "language": "python",
     "metadata": {},
     "outputs": []
    },
    {
     "cell_type": "markdown",
     "metadata": {},
     "source": [
      "You can perform operations on a DataFrame. For example, you can add up the values in every column:"
     ]
    },
    {
     "cell_type": "code",
     "collapsed": false,
     "input": [
      "f5.sum()"
     ],
     "language": "python",
     "metadata": {},
     "outputs": []
    },
    {
     "cell_type": "markdown",
     "metadata": {},
     "source": [
      "The describe() function shows statistics about the DataFrame:"
     ]
    },
    {
     "cell_type": "code",
     "collapsed": false,
     "input": [
      "f5.describe()"
     ],
     "language": "python",
     "metadata": {},
     "outputs": []
    },
    {
     "cell_type": "markdown",
     "metadata": {},
     "source": [
      "##Plotting DataFrames\n",
      "DataFrame has a plot() function:"
     ]
    },
    {
     "cell_type": "code",
     "collapsed": false,
     "input": [
      "f5.plot?"
     ],
     "language": "python",
     "metadata": {},
     "outputs": []
    },
    {
     "cell_type": "markdown",
     "metadata": {},
     "source": [
      "For example:"
     ]
    },
    {
     "cell_type": "code",
     "collapsed": false,
     "input": [
      "f5.plot(kind='bar')"
     ],
     "language": "python",
     "metadata": {},
     "outputs": []
    }
   ],
   "metadata": {}
  }
 ]
}