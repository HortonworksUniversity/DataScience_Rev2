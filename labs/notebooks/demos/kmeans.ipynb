{
 "metadata": {
  "name": "",
  "signature": "sha256:37571f409b94065b4ad5cfbf0a81580231ddcc70b6f4c9c465bab0f8fd5bd048"
 },
 "nbformat": 3,
 "nbformat_minor": 0,
 "worksheets": [
  {
   "cells": [
    {
     "cell_type": "code",
     "collapsed": false,
     "input": [
      "%matplotlib inline"
     ],
     "language": "python",
     "metadata": {},
     "outputs": [],
     "prompt_number": 3
    },
    {
     "cell_type": "code",
     "collapsed": false,
     "input": [
      "import sys\n",
      "\n",
      "from sklearn.feature_extraction.text import TfidfVectorizer\n",
      "from sklearn.cluster import KMeans\n",
      "\n",
      "import numpy as np\n",
      "import pandas as pd\n",
      "from pandas import DataFrame\n",
      "from pandas import Series\n",
      "\n",
      "import avro.schema\n",
      "from avro.datafile import DataFileReader\n",
      "from avro.io import DatumReader\n",
      "\n",
      "reader = DataFileReader(open(\"newsgroups/scispace.avro\", \"r\"), DatumReader())\n",
      "datamap = []\n",
      "for message in reader:\n",
      "    topics = message[\"newsgroups\"].split(',')\n",
      "    topics = [topic.strip() for topic in topics]\n",
      "    for topic in topics:\n",
      "        datamap.append({\"topic\": topic, \"article_id\": message[\"articleId\"], \n",
      "                        \"content\": message[\"content\"]})\n",
      "dataset = DataFrame(datamap)\n",
      "\n",
      "vectorizer = TfidfVectorizer(stop_words='english', use_idf=True)\n",
      "feature_vectors = vectorizer.fit_transform(dataset[\"content\"])\n",
      "km = KMeans(n_clusters=10, init='k-means++', max_iter=100, n_init=10, verbose=0)\n",
      "\n",
      "clusters = km.fit_predict(feature_vectors)\n",
      "\n",
      "dataset[\"cluster_id\"] = clusters\n",
      "\n",
      "result = DataFrame(dataset.groupby([\"cluster_id\"])[\"article_id\"].count(), \n",
      "                   columns = [\"doc_count\"])\n",
      "result.plot(kind=\"bar\")"
     ],
     "language": "python",
     "metadata": {},
     "outputs": [
      {
       "metadata": {},
       "output_type": "pyout",
       "prompt_number": 5,
       "text": [
        "<matplotlib.axes.AxesSubplot at 0x7f169c281ad0>"
       ]
      },
      {
       "metadata": {},
       "output_type": "display_data",
       "png": "[encoded data removed]",
       "text": [
        "<matplotlib.figure.Figure at 0x7f169c3893d0>"
       ]
      }
     ],
     "prompt_number": 5
    },
    {
     "cell_type": "code",
     "collapsed": false,
     "input": [],
     "language": "python",
     "metadata": {},
     "outputs": []
    }
   ],
   "metadata": {}
  }
 ]
}