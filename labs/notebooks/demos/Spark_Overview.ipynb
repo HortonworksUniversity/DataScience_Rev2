{
 "metadata": {
  "name": "",
  "signature": "sha256:ed8aad844c6ebb51bdfac66b9d7f953bb6ddc6d8ffae2a45fbcfa1cff1371044"
 },
 "nbformat": 3,
 "nbformat_minor": 0,
 "worksheets": [
  {
   "cells": [
    {
     "cell_type": "markdown",
     "metadata": {},
     "source": [
      "##Import the SparkContext, which initializes it"
     ]
    },
    {
     "cell_type": "code",
     "collapsed": false,
     "input": [
      "from pyspark import SparkContext"
     ],
     "language": "python",
     "metadata": {},
     "outputs": [],
     "prompt_number": 1
    },
    {
     "cell_type": "markdown",
     "metadata": {},
     "source": [
      "Create a simple Python array"
     ]
    },
    {
     "cell_type": "code",
     "collapsed": false,
     "input": [
      "myarray = range(1,20)\n",
      "myarray"
     ],
     "language": "python",
     "metadata": {},
     "outputs": [
      {
       "metadata": {},
       "output_type": "pyout",
       "prompt_number": 4,
       "text": [
        "[1, 2, 3, 4, 5, 6, 7, 8, 9, 10, 11, 12, 13, 14, 15, 16, 17, 18, 19]"
       ]
      }
     ],
     "prompt_number": 4
    },
    {
     "cell_type": "markdown",
     "metadata": {},
     "source": [
      "Convert the Python array to an RDD"
     ]
    },
    {
     "cell_type": "code",
     "collapsed": false,
     "input": [
      "dist_array = sc.parallelize(myarray)\n",
      "dist_array"
     ],
     "language": "python",
     "metadata": {},
     "outputs": [
      {
       "metadata": {},
       "output_type": "pyout",
       "prompt_number": 5,
       "text": [
        "ParallelCollectionRDD[0] at parallelize at PythonRDD.scala:223"
       ]
      }
     ],
     "prompt_number": 5
    },
    {
     "cell_type": "markdown",
     "metadata": {},
     "source": [
      "You can also create an RDD by referring to a file in HDFS"
     ]
    },
    {
     "cell_type": "code",
     "collapsed": false,
     "input": [
      "data = sc.textFile(\"/user/root/whitehouse/visits.txt\")\n",
      "data"
     ],
     "language": "python",
     "metadata": {},
     "outputs": [
      {
       "metadata": {},
       "output_type": "pyout",
       "prompt_number": 24,
       "text": [
        "MappedRDD[19] at textFile at NativeMethodAccessorImpl.java:-2"
       ]
      }
     ],
     "prompt_number": 24
    },
    {
     "cell_type": "code",
     "collapsed": false,
     "input": [
      "neg_values = dist_array.map(lambda x : -1 * x)\n",
      "neg_values.collect()"
     ],
     "language": "python",
     "metadata": {},
     "outputs": [
      {
       "metadata": {},
       "output_type": "pyout",
       "prompt_number": 15,
       "text": [
        "[-1,\n",
        " -2,\n",
        " -3,\n",
        " -4,\n",
        " -5,\n",
        " -6,\n",
        " -7,\n",
        " -8,\n",
        " -9,\n",
        " -10,\n",
        " -11,\n",
        " -12,\n",
        " -13,\n",
        " -14,\n",
        " -15,\n",
        " -16,\n",
        " -17,\n",
        " -18,\n",
        " -19]"
       ]
      }
     ],
     "prompt_number": 15
    },
    {
     "cell_type": "code",
     "collapsed": false,
     "input": [
      "large_values = dist_array.filter(lambda y: y > 10)\n",
      "large_values.collect()"
     ],
     "language": "python",
     "metadata": {},
     "outputs": [
      {
       "metadata": {},
       "output_type": "pyout",
       "prompt_number": 16,
       "text": [
        "[11, 12, 13, 14, 15, 16, 17, 18, 19]"
       ]
      }
     ],
     "prompt_number": 16
    },
    {
     "cell_type": "code",
     "collapsed": false,
     "input": [
      "large_values.count()"
     ],
     "language": "python",
     "metadata": {},
     "outputs": [
      {
       "metadata": {},
       "output_type": "pyout",
       "prompt_number": 17,
       "text": [
        "9"
       ]
      }
     ],
     "prompt_number": 17
    },
    {
     "cell_type": "code",
     "collapsed": false,
     "input": [
      "large_values.reduce(lambda x,y : x+y)"
     ],
     "language": "python",
     "metadata": {},
     "outputs": [
      {
       "metadata": {},
       "output_type": "pyout",
       "prompt_number": 23,
       "text": [
        "135"
       ]
      }
     ],
     "prompt_number": 23
    },
    {
     "cell_type": "code",
     "collapsed": false,
     "input": [
      "constitution = sc.textFile(\"/user/root/constitution.txt\")\n",
      "wordCounts = constitution.flatMap(lambda line: line.split()).map(lambda word: (word, 1)).reduceByKey(lambda a, b: a+b)\n",
      "wordCounts.take(20)"
     ],
     "language": "python",
     "metadata": {},
     "outputs": [
      {
       "metadata": {},
       "output_type": "pyout",
       "prompt_number": 29,
       "text": [
        "[(u'all', 37),\n",
        " (u'Jr.,', 1),\n",
        " (u'Legislatures', 3),\n",
        " (u'Roads;', 1),\n",
        " (u'bear', 2),\n",
        " (u'needful', 2),\n",
        " (u'Place', 3),\n",
        " (u'four', 2),\n",
        " (u'race,', 1),\n",
        " (u'Department', 1),\n",
        " (u'religious', 1),\n",
        " (u'Union;', 1),\n",
        " (u'quartered', 1),\n",
        " (u'Year,', 4),\n",
        " (u'up,', 1),\n",
        " (u'granting', 1),\n",
        " (u'concerned', 1),\n",
        " (u'Forts,', 1),\n",
        " (u'time.', 1),\n",
        " (u'list', 1)]"
       ]
      }
     ],
     "prompt_number": 29
    },
    {
     "cell_type": "code",
     "collapsed": false,
     "input": [
      "wordCounts.sortByKey"
     ],
     "language": "python",
     "metadata": {},
     "outputs": [
      {
       "metadata": {},
       "output_type": "pyout",
       "prompt_number": 32,
       "text": [
        "[(u'all', 37),\n",
        " (u'Jr.,', 1),\n",
        " (u'Legislatures', 3),\n",
        " (u'Roads;', 1),\n",
        " (u'bear', 2),\n",
        " (u'needful', 2),\n",
        " (u'Place', 3),\n",
        " (u'four', 2),\n",
        " (u'race,', 1),\n",
        " (u'Department', 1)]"
       ]
      }
     ],
     "prompt_number": 32
    },
    {
     "cell_type": "code",
     "collapsed": false,
     "input": [],
     "language": "python",
     "metadata": {},
     "outputs": []
    }
   ],
   "metadata": {}
  }
 ]
}
