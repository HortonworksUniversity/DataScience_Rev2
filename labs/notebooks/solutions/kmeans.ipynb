{
 "metadata": {
  "name": "",
  "signature": "sha256:91c5c78e350ebc00d68f136c7163473f44ca55d709f11a84dbd2efc900ed1f34"
 },
 "nbformat": 3,
 "nbformat_minor": 0,
 "worksheets": [
  {
   "cells": [
    {
     "cell_type": "markdown",
     "metadata": {},
     "source": [
      "##Import the necessary modules"
     ]
    },
    {
     "cell_type": "code",
     "collapsed": false,
     "input": [
      "#!/usr/bin/env python\n",
      "\n",
      "import fileinput\n",
      "import string\n",
      "\n",
      "from sklearn.feature_extraction.text import TfidfVectorizer\n",
      "from sklearn.cluster import KMeans\n",
      "from scipy.misc import factorial\n",
      "\n",
      "#Pandas depends on matplotlib - set up a temp dir for config \n",
      "import os\n",
      "import tempfile\n",
      "os.environ['MPLCONFIGDIR'] = tempfile.mkdtemp()\n",
      "from pandas import DataFrame"
     ],
     "language": "python",
     "metadata": {},
     "outputs": []
    },
    {
     "cell_type": "markdown",
     "metadata": {},
     "source": [
      "## Define the run_kmeans function"
     ]
    },
    {
     "cell_type": "code",
     "collapsed": false,
     "input": [
      "def run_kmeans(dataset, max_iterations=100, num_clusters=10, num_seeds=10):\n",
      "    vectorizer = TfidfVectorizer(stop_words='english', use_idf=True)\n",
      "    feature_vectors = vectorizer.fit_transform(dataset[\"content\"])\n",
      "    \n",
      "    #TODO: Create a KMeans object\n",
      "    km = KMeans(n_clusters=num_clusters, init='k-means++', \n",
      "        max_iter=max_iterations, n_init=num_seeds, verbose=0)\n",
      "\n",
      "    #TODO: Compute cluster centers and predict cluster index for each newsgroup topic\n",
      "    clusters = km.fit_predict(feature_vectors)\n",
      "    \n",
      "    #TODO: Return the results in a new DataFrame\n",
      "    result = DataFrame(dataset, columns = [\"topic\", \"article_id\"])\n",
      "    result[\"cluster_id\"] = clusters\n",
      "    return result\n"
     ],
     "language": "python",
     "metadata": {},
     "outputs": []
    },
    {
     "cell_type": "markdown",
     "metadata": {},
     "source": [
      "##Process the input data (line by line)"
     ]
    },
    {
     "cell_type": "code",
     "collapsed": false,
     "input": [
      "replace_punctuation = string.maketrans(string.punctuation, ' '*len(string.punctuation))\n",
      "current_topic = \"\"\n",
      "dataset = []\n",
      "for line in fileinput.input():\n",
      "    line = line.strip()\n",
      "    fields = line.split('\\t')\n",
      "    content = fields[2].translate(replace_punctuation)\n",
      "    if not current_topic:\n",
      "        current_topic = fields[0]\n",
      "    elif current_topic != fields[0]:\n",
      "        clusters = run_kmeans(DataFrame(dataset))\n",
      "        print(DataFrame.to_string(clusters, header = False, index = False))\n",
      "        current_topic = fields[0]\n",
      "        dataset[:] = []\n",
      "    dataset.append({\"topic\": fields[0], \"article_id\": fields[1], \n",
      "                    \"content\": content})"
     ],
     "language": "python",
     "metadata": {},
     "outputs": []
    },
    {
     "cell_type": "markdown",
     "metadata": {},
     "source": [
      "##Pass the data to the clustering function"
     ]
    },
    {
     "cell_type": "code",
     "collapsed": false,
     "input": [
      "clusters = run_kmeans(DataFrame(dataset))\n",
      "print(DataFrame.to_string(clusters, header = False, index = False))"
     ],
     "language": "python",
     "metadata": {},
     "outputs": []
    }
   ],
   "metadata": {}
  }
 ]
}