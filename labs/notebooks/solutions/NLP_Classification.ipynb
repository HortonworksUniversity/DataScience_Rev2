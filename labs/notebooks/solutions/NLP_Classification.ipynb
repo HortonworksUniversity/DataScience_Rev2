{
 "metadata": {
  "name": "",
  "signature": "sha256:0a701b1ab64c88e492be2106a11cae933647d690e57ee3867d30a6be8ee2654a"
 },
 "nbformat": 3,
 "nbformat_minor": 0,
 "worksheets": [
  {
   "cells": [
    {
     "cell_type": "code",
     "collapsed": false,
     "input": [
      "train_samples = {\n",
      "    'That was the worst movie I have ever seen': 'neg',\n",
      "    'I love you and you are a good person': 'pos',\n",
      "    'Hadoop is the coolest program ever' : 'pos',\n",
      "    'You did a nice job singing in the choir yesterday!' : 'pos',\n",
      "    'not a good day.' : 'neg',\n",
      "    'good are things are happening. lol' : 'pos',\n",
      "    'I am so mad' : 'neg',\n",
      "    'I am so rich' : 'pos',\n",
      "    'I hate brownies. They are too rich' : 'neg',\n",
      "    'I love brownies. They are so rich' : 'pos',\n",
      "    'Rainbows make me want to cry' : 'neg',\n",
      "    'I love to watch rainbows - they make me happy' : 'pos',\n",
      "    'I hate coffee' : 'neg',\n",
      "    'I love coffee' : 'pos',\n",
      "    'You make me frown' : 'neg',\n",
      "    'You make me smile' : 'pos',\n",
      "}"
     ],
     "language": "python",
     "metadata": {},
     "outputs": []
    },
    {
     "cell_type": "code",
     "collapsed": false,
     "input": [
      "import nltk\n",
      "from nltk.classify import NaiveBayesClassifier"
     ],
     "language": "python",
     "metadata": {},
     "outputs": []
    },
    {
     "cell_type": "code",
     "collapsed": false,
     "input": [
      "def create_dictionary(comment):\n",
      "    return dict([(word, True) for word in nltk.word_tokenize(comment)])"
     ],
     "language": "python",
     "metadata": {},
     "outputs": []
    },
    {
     "cell_type": "code",
     "collapsed": false,
     "input": [
      "positive_comments = []\n",
      "negative_comments = []\n",
      "for comments, label  in train_samples.items():\n",
      "    if label == 'pos' :\n",
      "        positive_comments.append(comments.lower())\n",
      "    else :\n",
      "        negative_comments.append(comments.lower())\n",
      "print positive_comments\n",
      "print negative_comments"
     ],
     "language": "python",
     "metadata": {},
     "outputs": []
    },
    {
     "cell_type": "code",
     "collapsed": false,
     "input": [
      "negative_features = [(create_dictionary(comment),'neg') for comment in negative_comments]\n",
      "print negative_features"
     ],
     "language": "python",
     "metadata": {},
     "outputs": []
    },
    {
     "cell_type": "code",
     "collapsed": false,
     "input": [
      "positive_features = [(create_dictionary(comment),'pos') for comment in positive_comments]\n",
      "print positive_features"
     ],
     "language": "python",
     "metadata": {},
     "outputs": []
    },
    {
     "cell_type": "code",
     "collapsed": false,
     "input": [
      "training_features = positive_features + negative_features\n",
      "training_features"
     ],
     "language": "python",
     "metadata": {},
     "outputs": []
    },
    {
     "cell_type": "code",
     "collapsed": false,
     "input": [
      "classifier = NaiveBayesClassifier.train(training_features)\n",
      "classifier.show_most_informative_features()"
     ],
     "language": "python",
     "metadata": {},
     "outputs": []
    },
    {
     "cell_type": "code",
     "collapsed": false,
     "input": [],
     "language": "python",
     "metadata": {},
     "outputs": []
    }
   ],
   "metadata": {}
  }
 ]
}