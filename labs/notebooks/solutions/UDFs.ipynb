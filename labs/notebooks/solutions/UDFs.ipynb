{
 "metadata": {
  "name": "",
  "signature": "sha256:2db0407e45666753ffd0fca28f0df946c0ffda0611a68ee42a0338c148567a2e"
 },
 "nbformat": 3,
 "nbformat_minor": 0,
 "worksheets": [
  {
   "cells": [
    {
     "cell_type": "code",
     "collapsed": false,
     "input": [
      "#! /usr/bin/env python\n",
      "\n",
      "import string\n",
      "from email.utils import parseaddr\n",
      "\n",
      "for_split = [',', '\\n', '\\t', '\\'', '.', '\\\"', '!', '?', '-', '~', '[', ']', \n",
      "        '=', '(', ')', '\\\"', ':', ';', '{', '}', '<', '>']\n",
      "ignored = ['Re:', 'the', 'and', 'i', 'to', 'of', 'a', 'in', 'was', 'that', 'had',\n",
      "        'he', 'you', 'his','my', 'it', 'as', 'with', 'her', 'for', 'on']\n",
      "\n",
      "@outputSchema(\"y:bag{t:tuple(word:chararray, wordcount:int)}\")\n",
      "def getTop5Words(bag):\n",
      "    result = []\n",
      "    i = 0\n",
      "    wordcount = {}\n",
      "    for record in bag:\n",
      "        doc = record[0]\n",
      "        for ch in for_split:\n",
      "            doc = string.replace(doc, ch, ' ')\n",
      "        for word in [w.lower() for w in string.split(doc)]:\n",
      "            if word not in wordcount:\n",
      "                wordcount[word] = 1\n",
      "            else:\n",
      "                wordcount[word] += 1\n",
      "    for word in sorted(wordcount, key=wordcount.get, reverse=True):\n",
      "        if not word in ignored and i < 5 and wordcount[word] > 1:\n",
      "            tup = (word, wordcount[word])\n",
      "            result.append(tup)\n",
      "            i = i + 1\n",
      "    return result\n",
      "\n",
      "@outputSchema(\"fromEmail:chararray\")\n",
      "def getFromEmail(fromEmail):\n",
      "    return parseaddr(fromEmail)[1]"
     ],
     "language": "python",
     "metadata": {},
     "outputs": []
    }
   ],
   "metadata": {}
  }
 ]
}