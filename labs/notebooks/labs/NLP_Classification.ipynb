{
 "metadata": {
  "name": "",
  "signature": "sha256:a6f64b8e51ca15ee5211bf308a7b8d233612065dbc993c767925fe44d295bb0e"
 },
 "nbformat": 3,
 "nbformat_minor": 0,
 "worksheets": [
  {
   "cells": [
    {
     "cell_type": "code",
     "collapsed": false,
     "input": [
      "train_samples = {\n",
      "    'That was the worst movie I have ever seen': 'neg',\n",
      "    'I love you and you are a good person': 'pos',\n",
      "    'Hadoop is the coolest program ever' : 'pos',\n",
      "    'You did a nice job singing in the choir yesterday!' : 'pos',\n",
      "    'not a good day.' : 'neg',\n",
      "    'good are things are happening. lol' : 'pos',\n",
      "    'I am so mad' : 'neg',\n",
      "    'I am so rich' : 'pos',\n",
      "    'I hate brownies. They are too rich' : 'neg',\n",
      "    'I love brownies. They are so rich' : 'pos',\n",
      "    'Rainbows make me want to cry' : 'neg',\n",
      "    'I love to watch rainbows - they make me happy' : 'pos',\n",
      "    'I hate coffee' : 'neg',\n",
      "    'I love coffee' : 'pos',\n",
      "    'You make me frown' : 'neg',\n",
      "    'You make me smile' : 'pos',\n",
      "}"
     ],
     "language": "python",
     "metadata": {},
     "outputs": []
    }
   ],
   "metadata": {}
  }
 ]
}
